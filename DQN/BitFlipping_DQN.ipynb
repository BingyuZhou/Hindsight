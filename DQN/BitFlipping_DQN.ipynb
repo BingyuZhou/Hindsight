{
 "cells": [
  {
   "cell_type": "markdown",
   "metadata": {},
   "source": [
    "# Bit flipping game with DQN solver\n",
    "\n",
    "This is the implementation of the DQN solver for the bit flipping game in [**Hindsight Experience Replay**](https://arxiv.org/abs/1707.01495).\n",
    "\n",
    "**Rerefence**:\n",
    "\n",
    "1. Marcin Andrychowicz, Filip Wolski, Alex Ray, Jonas Schneider, Rachel Fong, Peter Welinder, Bob McGrew, Josh Tobin, Pieter Abbeel, Wojciech Zaremba, Hindsight Experience Replay\n"
   ]
  },
  {
   "cell_type": "code",
   "execution_count": 1,
   "metadata": {
    "slideshow": {
     "slide_type": "-"
    }
   },
   "outputs": [],
   "source": [
    "from __future__ import absolute_import\n",
    "from __future__ import division\n",
    "from __future__ import print_function\n",
    "\n",
    "import tensorflow as tf\n",
    "import numpy as np\n",
    "import matplotlib.pyplot as plt\n",
    "from bitflipping import bitflipping as bf\n",
    "from DQN import DQN\n",
    "\n",
    "plt.rcParams['figure.figsize'] = [15, 20]\n",
    "%matplotlib inline"
   ]
  },
  {
   "cell_type": "markdown",
   "metadata": {},
   "source": [
    "## Set up the bit flipping game environment"
   ]
  },
  {
   "cell_type": "code",
   "execution_count": 2,
   "metadata": {},
   "outputs": [],
   "source": [
    "init_state = np.array([0,1])\n",
    "goal = np.ones((2,))\n",
    "n = 4\n",
    "bf_env = bf(n)"
   ]
  },
  {
   "cell_type": "markdown",
   "metadata": {},
   "source": [
    "## Build up the DQN neural network"
   ]
  },
  {
   "cell_type": "code",
   "execution_count": 3,
   "metadata": {},
   "outputs": [],
   "source": [
    "tf.reset_default_graph()\n",
    "\n",
    "\n",
    "x = tf.placeholder(tf.float32, shape=(None, 2*n))\n",
    "y = tf.placeholder(tf.float32, shape=(None, 1))\n",
    "\n",
    "\n",
    "hid = [256]\n",
    "agent = DQN(x, hid, n, discount=0.98, eps=0.5, tau = 0.95, replay_buffer_size=1e3, batch_size=32)"
   ]
  },
  {
   "cell_type": "code",
   "execution_count": null,
   "metadata": {
    "scrolled": false
   },
   "outputs": [
    {
     "name": "stdout",
     "output_type": "stream",
     "text": [
      "Epoch 0 Cycle 0: loss is 0.0843, success rate 0.125\n",
      "Epoch 0 Cycle 1: loss is 0.101, success rate 0.1875\n",
      "Epoch 0 Cycle 2: loss is 0.105, success rate 0.1875\n",
      "Epoch 0 Cycle 3: loss is 0.107, success rate 0.25\n",
      "Epoch 0 Cycle 4: loss is 0.109, success rate 0.3125\n",
      "Epoch 0 Cycle 5: loss is 0.153, success rate 0.0625\n",
      "Epoch 0 Cycle 6: loss is 0.085, success rate 0.1875\n",
      "Epoch 0 Cycle 7: loss is 0.121, success rate 0.3125\n",
      "Epoch 0 Cycle 8: loss is 0.128, success rate 0.1875\n",
      "Epoch 0 Cycle 9: loss is 0.0995, success rate 0.25\n",
      "Epoch 0 Cycle 10: loss is 0.106, success rate 0.0625\n",
      "Epoch 0 Cycle 11: loss is 0.146, success rate 0.25\n",
      "Epoch 0 Cycle 12: loss is 0.143, success rate   0\n",
      "Epoch 0 Cycle 13: loss is 0.154, success rate 0.3125\n",
      "Epoch 0 Cycle 14: loss is 0.171, success rate 0.3125\n",
      "Epoch 0 Cycle 15: loss is 0.163, success rate 0.0625\n",
      "Epoch 0 Cycle 16: loss is 0.205, success rate 0.3125\n",
      "Epoch 0 Cycle 17: loss is 0.158, success rate 0.25\n",
      "Epoch 0 Cycle 18: loss is 0.191, success rate 0.0625\n",
      "Epoch 0 Cycle 19: loss is 0.208, success rate 0.3125\n",
      "Epoch 0 Cycle 20: loss is 0.181, success rate 0.1875\n",
      "Epoch 0 Cycle 21: loss is 0.196, success rate 0.0625\n",
      "Epoch 0 Cycle 22: loss is 0.17, success rate 0.1875\n",
      "Epoch 0 Cycle 23: loss is 0.196, success rate 0.1875\n",
      "Epoch 0 Cycle 24: loss is 0.22, success rate 0.3125\n",
      "Epoch 0 Cycle 25: loss is 0.231, success rate 0.375\n",
      "Epoch 0 Cycle 26: loss is 0.22, success rate 0.25\n",
      "Epoch 0 Cycle 27: loss is 0.27, success rate 0.0625\n",
      "Epoch 0 Cycle 28: loss is 0.217, success rate 0.3125\n",
      "Epoch 0 Cycle 29: loss is 0.186, success rate 0.25\n",
      "Epoch 0 Cycle 30: loss is 0.252, success rate 0.1875\n",
      "Epoch 0 Cycle 31: loss is 0.28, success rate 0.1875\n",
      "Epoch 0 Cycle 32: loss is 0.238, success rate 0.1875\n",
      "Epoch 0 Cycle 33: loss is 0.309, success rate 0.3125\n",
      "Epoch 0 Cycle 34: loss is 0.245, success rate 0.3125\n",
      "Epoch 0 Cycle 35: loss is 0.335, success rate 0.125\n",
      "Epoch 0 Cycle 36: loss is 0.33, success rate 0.25\n",
      "Epoch 0 Cycle 37: loss is 0.319, success rate 0.25\n",
      "Epoch 0 Cycle 38: loss is 0.315, success rate 0.4375\n",
      "Epoch 0 Cycle 39: loss is 0.35, success rate 0.3125\n",
      "Epoch 0 Cycle 40: loss is 0.337, success rate 0.1875\n",
      "Epoch 0 Cycle 41: loss is 0.265, success rate 0.25\n",
      "Epoch 0 Cycle 42: loss is 0.351, success rate 0.25\n",
      "Epoch 0 Cycle 43: loss is 0.302, success rate 0.5625\n",
      "Epoch 0 Cycle 44: loss is 0.316, success rate 0.1875\n",
      "Epoch 0 Cycle 45: loss is 0.382, success rate 0.5625\n",
      "Epoch 0 Cycle 46: loss is 0.332, success rate 0.375\n",
      "Epoch 0 Cycle 47: loss is 0.375, success rate 0.625\n",
      "Epoch 0 Cycle 48: loss is 0.399, success rate 0.5625\n",
      "Epoch 0 Cycle 49: loss is 0.419, success rate 0.375\n",
      "Epoch 1 Cycle 0: loss is 0.443, success rate 0.5625\n",
      "Epoch 1 Cycle 1: loss is 0.413, success rate 0.6875\n",
      "Epoch 1 Cycle 2: loss is 0.365, success rate 0.625\n",
      "Epoch 1 Cycle 3: loss is 0.36, success rate 0.4375\n",
      "Epoch 1 Cycle 4: loss is 0.464, success rate 0.5625\n",
      "Epoch 1 Cycle 5: loss is 0.469, success rate 0.75\n",
      "Epoch 1 Cycle 6: loss is 0.429, success rate 0.875\n",
      "Epoch 1 Cycle 7: loss is 0.435, success rate 0.625\n",
      "Epoch 1 Cycle 8: loss is 0.461, success rate 0.5\n",
      "Epoch 1 Cycle 9: loss is 0.483, success rate 0.5625\n",
      "Epoch 1 Cycle 10: loss is 0.452, success rate 0.75\n",
      "Epoch 1 Cycle 11: loss is 0.438, success rate 0.875\n",
      "Epoch 1 Cycle 12: loss is 0.444, success rate 0.6875\n",
      "Epoch 1 Cycle 13: loss is 0.516, success rate 0.75\n",
      "Epoch 1 Cycle 14: loss is 0.459, success rate 0.8125\n",
      "Epoch 1 Cycle 15: loss is 0.504, success rate 0.625\n",
      "Epoch 1 Cycle 16: loss is 0.456, success rate 0.5\n",
      "Epoch 1 Cycle 17: loss is 0.463, success rate 0.8125\n",
      "Epoch 1 Cycle 18: loss is 0.446, success rate 0.6875\n",
      "Epoch 1 Cycle 19: loss is 0.497, success rate 0.625\n",
      "Epoch 1 Cycle 20: loss is 0.555, success rate 0.8125\n",
      "Epoch 1 Cycle 21: loss is 0.595, success rate 0.875\n",
      "Epoch 1 Cycle 22: loss is 0.545, success rate 0.875\n",
      "Epoch 1 Cycle 23: loss is 0.492, success rate 0.8125\n",
      "Epoch 1 Cycle 24: loss is 0.531, success rate 0.8125\n",
      "Epoch 1 Cycle 25: loss is 0.474, success rate 0.625\n",
      "Epoch 1 Cycle 26: loss is 0.571, success rate 0.75\n",
      "Epoch 1 Cycle 27: loss is 0.554, success rate 0.8125\n",
      "Epoch 1 Cycle 28: loss is 0.551, success rate 0.8125\n",
      "Epoch 1 Cycle 29: loss is 0.589, success rate 0.6875\n",
      "Epoch 1 Cycle 30: loss is 0.563, success rate 0.6875\n",
      "Epoch 1 Cycle 31: loss is 0.619, success rate 0.75\n",
      "Epoch 1 Cycle 32: loss is 0.605, success rate 0.875\n",
      "Epoch 1 Cycle 33: loss is 0.709, success rate 0.75\n",
      "Epoch 1 Cycle 34: loss is 0.589, success rate 0.8125\n",
      "Epoch 1 Cycle 35: loss is 0.617, success rate 0.6875\n",
      "Epoch 1 Cycle 36: loss is 0.703, success rate 0.625\n",
      "Epoch 1 Cycle 37: loss is 0.657, success rate 0.8125\n",
      "Epoch 1 Cycle 38: loss is 0.638, success rate 0.625\n",
      "Epoch 1 Cycle 39: loss is 0.817, success rate 0.8125\n",
      "Epoch 1 Cycle 40: loss is 0.727, success rate 0.9375\n",
      "Epoch 1 Cycle 41: loss is 0.718, success rate 0.75\n",
      "Epoch 1 Cycle 42: loss is 0.668, success rate 0.875\n",
      "Epoch 1 Cycle 43: loss is 0.708, success rate 0.8125\n",
      "Epoch 1 Cycle 44: loss is 0.606, success rate 0.875\n",
      "Epoch 1 Cycle 45: loss is 0.575, success rate 0.8125\n",
      "Epoch 1 Cycle 46: loss is 0.716, success rate 0.6875\n",
      "Epoch 1 Cycle 47: loss is 0.915, success rate 0.875\n",
      "Epoch 1 Cycle 48: loss is 0.689, success rate 0.6875\n",
      "Epoch 1 Cycle 49: loss is 0.663, success rate 0.75\n",
      "Epoch 2 Cycle 0: loss is 0.83, success rate 0.8125\n",
      "Epoch 2 Cycle 1: loss is 0.59, success rate 0.8125\n",
      "Epoch 2 Cycle 2: loss is 0.719, success rate 0.8125\n",
      "Epoch 2 Cycle 3: loss is 0.648, success rate 0.8125\n",
      "Epoch 2 Cycle 4: loss is 0.676, success rate 0.8125\n",
      "Epoch 2 Cycle 5: loss is 0.696, success rate 0.875\n",
      "Epoch 2 Cycle 6: loss is 0.659, success rate 0.8125\n",
      "Epoch 2 Cycle 7: loss is 0.526, success rate 0.625\n",
      "Epoch 2 Cycle 8: loss is 0.668, success rate 0.8125\n",
      "Epoch 2 Cycle 9: loss is 0.623, success rate 0.8125\n",
      "Epoch 2 Cycle 10: loss is 0.647, success rate 0.875\n",
      "Epoch 2 Cycle 11: loss is 0.603, success rate 0.875\n",
      "Epoch 2 Cycle 12: loss is 0.774, success rate 0.625\n",
      "Epoch 2 Cycle 13: loss is 0.831, success rate 0.6875\n",
      "Epoch 2 Cycle 14: loss is 0.792, success rate 0.875\n",
      "Epoch 2 Cycle 15: loss is 0.858, success rate 0.9375\n",
      "Epoch 2 Cycle 16: loss is 0.806, success rate 0.8125\n",
      "Epoch 2 Cycle 17: loss is 0.809, success rate 0.875\n",
      "Epoch 2 Cycle 18: loss is 0.856, success rate 0.75\n",
      "Epoch 2 Cycle 19: loss is 0.906, success rate 0.75\n",
      "Epoch 2 Cycle 20: loss is 0.68, success rate 0.8125\n",
      "Epoch 2 Cycle 21: loss is 0.972, success rate 0.875\n",
      "Epoch 2 Cycle 22: loss is 0.936, success rate 0.9375\n",
      "Epoch 2 Cycle 23: loss is 0.623, success rate 0.875\n",
      "Epoch 2 Cycle 24: loss is 0.645, success rate 0.875\n",
      "Epoch 2 Cycle 25: loss is 0.691, success rate 0.8125\n",
      "Epoch 2 Cycle 26: loss is 0.998, success rate 0.8125\n",
      "Epoch 2 Cycle 27: loss is 0.908, success rate 0.6875\n",
      "Epoch 2 Cycle 28: loss is 0.91, success rate 0.875\n",
      "Epoch 2 Cycle 29: loss is 0.914, success rate 0.8125\n",
      "Epoch 2 Cycle 30: loss is 0.827, success rate 0.9375\n",
      "Epoch 2 Cycle 31: loss is 1.04, success rate   1\n",
      "Epoch 2 Cycle 32: loss is 1.22, success rate 0.75\n",
      "Epoch 2 Cycle 33: loss is 0.775, success rate 0.875\n",
      "Epoch 2 Cycle 34: loss is 0.948, success rate 0.75\n",
      "Epoch 2 Cycle 35: loss is 0.803, success rate 0.875\n",
      "Epoch 2 Cycle 36: loss is 0.902, success rate 0.75\n",
      "Epoch 2 Cycle 37: loss is 0.949, success rate 0.75\n",
      "Epoch 2 Cycle 38: loss is 0.873, success rate 0.75\n",
      "Epoch 2 Cycle 39: loss is 1.05, success rate 0.8125\n",
      "Epoch 2 Cycle 40: loss is 0.905, success rate 0.8125\n",
      "Epoch 2 Cycle 41: loss is 1.03, success rate 0.75\n",
      "Epoch 2 Cycle 42: loss is 0.754, success rate 0.75\n",
      "Epoch 2 Cycle 43: loss is 0.816, success rate 0.9375\n",
      "Epoch 2 Cycle 44: loss is 0.821, success rate 0.875\n",
      "Epoch 2 Cycle 45: loss is 1.12, success rate 0.875\n",
      "Epoch 2 Cycle 46: loss is 0.721, success rate 0.8125\n",
      "Epoch 2 Cycle 47: loss is 0.955, success rate 0.75\n",
      "Epoch 2 Cycle 48: loss is 1.07, success rate 0.9375\n",
      "Epoch 2 Cycle 49: loss is 0.785, success rate 0.8125\n",
      "Epoch 3 Cycle 0: loss is 0.787, success rate 0.8125\n",
      "Epoch 3 Cycle 1: loss is 1.1, success rate 0.9375\n",
      "Epoch 3 Cycle 2: loss is 1.26, success rate 0.8125\n",
      "Epoch 3 Cycle 3: loss is 1.05, success rate 0.8125\n",
      "Epoch 3 Cycle 4: loss is 0.811, success rate 0.875\n",
      "Epoch 3 Cycle 5: loss is 0.948, success rate 0.875\n",
      "Epoch 3 Cycle 6: loss is 1.12, success rate 0.6875\n",
      "Epoch 3 Cycle 7: loss is 1.13, success rate 0.8125\n"
     ]
    },
    {
     "name": "stdout",
     "output_type": "stream",
     "text": [
      "Epoch 3 Cycle 8: loss is 0.894, success rate 0.6875\n",
      "Epoch 3 Cycle 9: loss is 1.15, success rate 0.75\n",
      "Epoch 3 Cycle 10: loss is 0.912, success rate 0.875\n",
      "Epoch 3 Cycle 11: loss is 1.16, success rate 0.8125\n",
      "Epoch 3 Cycle 12: loss is 1.04, success rate 0.9375\n",
      "Epoch 3 Cycle 13: loss is 0.926, success rate 0.9375\n",
      "Epoch 3 Cycle 14: loss is 0.792, success rate   1\n",
      "Epoch 3 Cycle 15: loss is 1.32, success rate 0.8125\n",
      "Epoch 3 Cycle 16: loss is 1.06, success rate 0.625\n",
      "Epoch 3 Cycle 17: loss is 0.801, success rate 0.9375\n",
      "Epoch 3 Cycle 18: loss is 0.71, success rate 0.875\n",
      "Epoch 3 Cycle 19: loss is 0.797, success rate   1\n",
      "Epoch 3 Cycle 20: loss is 0.952, success rate 0.9375\n",
      "Epoch 3 Cycle 21: loss is 1.02, success rate 0.625\n",
      "Epoch 3 Cycle 22: loss is 1.03, success rate 0.75\n",
      "Epoch 3 Cycle 23: loss is 1.11, success rate 0.6875\n",
      "Epoch 3 Cycle 24: loss is 0.981, success rate   1\n",
      "Epoch 3 Cycle 25: loss is 1.05, success rate 0.75\n",
      "Epoch 3 Cycle 26: loss is 1.1, success rate 0.8125\n",
      "Epoch 3 Cycle 27: loss is 0.877, success rate 0.9375\n",
      "Epoch 3 Cycle 28: loss is 1.27, success rate 0.75\n",
      "Epoch 3 Cycle 29: loss is 0.912, success rate 0.8125\n",
      "Epoch 3 Cycle 30: loss is 0.908, success rate 0.8125\n",
      "Epoch 3 Cycle 31: loss is 1.16, success rate 0.75\n",
      "Epoch 3 Cycle 32: loss is 1, success rate 0.9375\n",
      "Epoch 3 Cycle 33: loss is 1.42, success rate 0.8125\n",
      "Epoch 3 Cycle 34: loss is 0.695, success rate 0.875\n",
      "Epoch 3 Cycle 35: loss is 0.969, success rate 0.8125\n",
      "Epoch 3 Cycle 36: loss is 1.18, success rate 0.8125\n"
     ]
    }
   ],
   "source": [
    "losses, success_all = agent.train_Q(x, y, epoch=8, cycles=50, episode=16, iteration=50)"
   ]
  },
  {
   "cell_type": "code",
   "execution_count": null,
   "metadata": {},
   "outputs": [],
   "source": [
    "plt.figure()\n",
    "plt.plot(losses)\n",
    "plt.show()"
   ]
  },
  {
   "cell_type": "markdown",
   "metadata": {},
   "source": [
    "## Test DQN"
   ]
  },
  {
   "cell_type": "code",
   "execution_count": null,
   "metadata": {},
   "outputs": [],
   "source": [
    "with tf.Session() as sess:\n",
    "    saver = tf.train.Saver()\n",
    "    saver.restore(sess, '/tmp/model.ckpt')\n",
    "    \n",
    "    success = 0\n",
    "    for i in range(100):\n",
    "        \n",
    "        bf_env.reset()\n",
    "\n",
    "        for i in range(n):\n",
    "            X = np.concatenate((bf_env.state.reshape((1,-1)),bf_env.goal.reshape((1,-1))), axis=1)\n",
    "            Q = sess.run(agent.targetModel, feed_dict={x: X})\n",
    "            action = np.argmax(Q)\n",
    "            bf_env.update_state(action)\n",
    "            if (bf_env.reward(bf_env.state)==0):\n",
    "                print('Success! state:{0}\\t Goal state:{1}'.format(bf_env.state, bf_env.goal))\n",
    "                success += 1\n",
    "                break\n",
    "            elif (i==n-1):\n",
    "                print('Fail! state:{0}\\t Goal state:{1}'.format(bf_env.state, bf_env.goal))\n",
    "                \n",
    "    print('Success rate {}%'.format(success))"
   ]
  },
  {
   "cell_type": "code",
   "execution_count": null,
   "metadata": {},
   "outputs": [],
   "source": [
    "a=np.array([[1,2,3,2,1,3]])"
   ]
  },
  {
   "cell_type": "code",
   "execution_count": null,
   "metadata": {},
   "outputs": [],
   "source": [
    "a=np.array([3,1,2])"
   ]
  },
  {
   "cell_type": "code",
   "execution_count": null,
   "metadata": {},
   "outputs": [],
   "source": [
    "a[a<0] += 2"
   ]
  },
  {
   "cell_type": "code",
   "execution_count": null,
   "metadata": {},
   "outputs": [],
   "source": [
    "a"
   ]
  },
  {
   "cell_type": "code",
   "execution_count": null,
   "metadata": {},
   "outputs": [],
   "source": []
  },
  {
   "cell_type": "code",
   "execution_count": null,
   "metadata": {},
   "outputs": [],
   "source": [
    "(a==None).all()"
   ]
  },
  {
   "cell_type": "code",
   "execution_count": null,
   "metadata": {},
   "outputs": [],
   "source": [
    "s=np.argmax(a)"
   ]
  },
  {
   "cell_type": "code",
   "execution_count": null,
   "metadata": {},
   "outputs": [],
   "source": []
  },
  {
   "cell_type": "code",
   "execution_count": null,
   "metadata": {},
   "outputs": [],
   "source": []
  }
 ],
 "metadata": {
  "kernelspec": {
   "display_name": "Python 3",
   "language": "python",
   "name": "python3"
  },
  "language_info": {
   "codemirror_mode": {
    "name": "ipython",
    "version": 3
   },
   "file_extension": ".py",
   "mimetype": "text/x-python",
   "name": "python",
   "nbconvert_exporter": "python",
   "pygments_lexer": "ipython3",
   "version": "3.6.5"
  }
 },
 "nbformat": 4,
 "nbformat_minor": 2
}
