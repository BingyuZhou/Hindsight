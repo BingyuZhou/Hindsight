{
 "cells": [
  {
   "cell_type": "markdown",
   "metadata": {},
   "source": [
    "# Bit flipping game with DQN solver\n",
    "\n",
    "This is the implementation of the DQN solver for the bit flipping game in [**Hindsight Experience Replay**](https://arxiv.org/abs/1707.01495).\n",
    "\n",
    "**Rerefence**:\n",
    "\n",
    "1. Marcin Andrychowicz, Filip Wolski, Alex Ray, Jonas Schneider, Rachel Fong, Peter Welinder, Bob McGrew, Josh Tobin, Pieter Abbeel, Wojciech Zaremba, Hindsight Experience Replay\n"
   ]
  },
  {
   "cell_type": "code",
   "execution_count": 1,
   "metadata": {
    "collapsed": true,
    "slideshow": {
     "slide_type": "-"
    }
   },
   "outputs": [
    {
     "name": "stderr",
     "output_type": "stream",
     "text": [
      "/home/bingyu/anaconda3/lib/python3.6/site-packages/h5py/__init__.py:36: FutureWarning: Conversion of the second argument of issubdtype from `float` to `np.floating` is deprecated. In future, it will be treated as `np.float64 == np.dtype(float).type`.\n",
      "  from ._conv import register_converters as _register_converters\n"
     ]
    }
   ],
   "source": [
    "from __future__ import absolute_import\n",
    "from __future__ import division\n",
    "from __future__ import print_function\n",
    "\n",
    "import tensorflow as tf\n",
    "import numpy as np\n",
    "import matplotlib.pyplot as plt\n",
    "from bitflipping import bitflipping as bf\n",
    "from DQN import DQN\n",
    "\n",
    "plt.rcParams['figure.figsize'] = [10, 12]\n",
    "%matplotlib inline"
   ]
  },
  {
   "cell_type": "markdown",
   "metadata": {},
   "source": [
    "## Set up the bit flipping game environment"
   ]
  },
  {
   "cell_type": "code",
   "execution_count": 2,
   "metadata": {
    "collapsed": true
   },
   "outputs": [],
   "source": [
    "init_state = np.array([0,1])\n",
    "goal = np.ones((2,))\n",
    "n = 2\n",
    "bf_env = bf(init_state, goal, n)"
   ]
  },
  {
   "cell_type": "markdown",
   "metadata": {},
   "source": [
    "## Build up the DQN neural network"
   ]
  },
  {
   "cell_type": "code",
   "execution_count": 3,
   "metadata": {},
   "outputs": [],
   "source": [
    "tf.reset_default_graph()\n",
    "\n",
    "x = tf.placeholder(tf.float32, shape=(None, n+1))\n",
    "y = tf.placeholder(tf.float32, shape=(None, 1))\n",
    "\n",
    "hid = [256]\n",
    "agent = DQN(x, hid, n, discount=0.99, eps=0.1, annealing=0.9, replay_buffer_size=100)"
   ]
  },
  {
   "cell_type": "code",
   "execution_count": 4,
   "metadata": {},
   "outputs": [
    {
     "name": "stdout",
     "output_type": "stream",
     "text": [
      "[[ 1.  1.  1.  1.  0. -1.]]\n",
      "Episode 0: loss is 1.29\n",
      "[[ 1.  0.  1.  1.  1.  0.]\n",
      " [ 1.  1.  1.  1.  0. -1.]]\n",
      "Episode 0: loss is 0.345\n",
      "[[ 1.  1.  1.  1.  0. -1.]\n",
      " [ 0.  1.  1.  0.  0. -1.]\n",
      " [ 1.  0.  1.  1.  1.  0.]]\n",
      "Episode 1: loss is 0.442\n",
      "[[ 1.  0.  1.  1.  1.  0.]\n",
      " [ 0.  1.  1.  0.  0. -1.]\n",
      " [ 0.  0.  0.  1.  0.  0.]\n",
      " [ 1.  1.  1.  1.  0. -1.]]\n",
      "Episode 1: loss is 0.279\n",
      "[[ 1.  0.  1.  1.  1.  0.]\n",
      " [ 0.  0.  0.  1.  0.  0.]\n",
      " [ 0.  0.  0.  1.  0. -1.]\n",
      " [ 0.  1.  1.  0.  0. -1.]\n",
      " [ 1.  1.  1.  1.  0. -1.]]\n",
      "Episode 2: loss is 0.494\n",
      "[[ 1.  1.  1.  1.  0. -1.]\n",
      " [ 0.  1.  1.  0.  0. -1.]\n",
      " [ 0.  0.  0.  1.  0.  0.]\n",
      " [ 0.  0.  0.  1.  0. -1.]\n",
      " [ 1.  0.  0.  0.  0. -1.]\n",
      " [ 1.  0.  1.  1.  1.  0.]]\n",
      "Episode 2: loss is 0.524\n",
      "[[ 0.  1.  1.  0.  0. -1.]\n",
      " [ 1.  0.  1.  1.  1.  0.]\n",
      " [ 1.  0.  0.  0.  0. -1.]\n",
      " [ 0.  0.  0.  1.  0. -1.]\n",
      " [ 0.  0.  0.  1.  0.  0.]\n",
      " [ 1.  1.  1.  1.  0. -1.]\n",
      " [ 1.  0.  0.  0.  0. -1.]]\n",
      "Episode 3: loss is 0.407\n",
      "[[ 0.  0.  0.  1.  0. -1.]\n",
      " [ 0.  0.  0.  1.  0.  0.]\n",
      " [ 1.  0.  0.  0.  0. -1.]\n",
      " [ 1.  1.  1.  1.  0. -1.]\n",
      " [ 0.  0.  0.  1.  0.  0.]\n",
      " [ 0.  1.  1.  0.  0. -1.]\n",
      " [ 1.  0.  0.  0.  0. -1.]\n",
      " [ 1.  0.  1.  1.  1.  0.]]\n",
      "Episode 3: loss is 0.341\n",
      "[[ 1.  0.  0.  0.  0. -1.]\n",
      " [ 1.  0.  0.  0.  0.  0.]\n",
      " [ 0.  1.  1.  0.  0. -1.]\n",
      " [ 1.  1.  1.  1.  0. -1.]\n",
      " [ 0.  0.  0.  1.  0.  0.]\n",
      " [ 0.  0.  0.  1.  0. -1.]\n",
      " [ 1.  0.  0.  0.  0. -1.]\n",
      " [ 0.  0.  0.  1.  0.  0.]\n",
      " [ 1.  0.  1.  1.  1.  0.]]\n",
      "Episode 4: loss is 0.269\n",
      "[[ 1.  0.  0.  0.  0.  0.]\n",
      " [ 0.  0.  0.  1.  0.  0.]\n",
      " [ 0.  0.  0.  1.  0. -1.]\n",
      " [ 1.  1.  1.  1.  0. -1.]\n",
      " [ 1.  0.  0.  0.  0. -1.]\n",
      " [ 1.  0.  1.  1.  1.  0.]\n",
      " [ 0.  1.  1.  0.  0. -1.]\n",
      " [ 0.  0.  0.  1.  0. -1.]\n",
      " [ 0.  0.  0.  1.  0.  0.]\n",
      " [ 1.  0.  0.  0.  0. -1.]]\n",
      "Episode 4: loss is 0.286\n"
     ]
    }
   ],
   "source": [
    "losses = agent.train_Q(x, y, episode=5, T=n)"
   ]
  },
  {
   "cell_type": "code",
   "execution_count": null,
   "metadata": {},
   "outputs": [],
   "source": []
  },
  {
   "cell_type": "code",
   "execution_count": null,
   "metadata": {},
   "outputs": [],
   "source": []
  },
  {
   "cell_type": "code",
   "execution_count": null,
   "metadata": {},
   "outputs": [],
   "source": []
  },
  {
   "cell_type": "code",
   "execution_count": null,
   "metadata": {},
   "outputs": [],
   "source": []
  },
  {
   "cell_type": "code",
   "execution_count": null,
   "metadata": {},
   "outputs": [],
   "source": []
  },
  {
   "cell_type": "code",
   "execution_count": null,
   "metadata": {},
   "outputs": [],
   "source": []
  },
  {
   "cell_type": "code",
   "execution_count": null,
   "metadata": {},
   "outputs": [],
   "source": []
  }
 ],
 "metadata": {
  "kernelspec": {
   "display_name": "Python 3",
   "language": "python",
   "name": "python3"
  },
  "language_info": {
   "codemirror_mode": {
    "name": "ipython",
    "version": 3
   },
   "file_extension": ".py",
   "mimetype": "text/x-python",
   "name": "python",
   "nbconvert_exporter": "python",
   "pygments_lexer": "ipython3",
   "version": "3.6.5"
  }
 },
 "nbformat": 4,
 "nbformat_minor": 2
}
