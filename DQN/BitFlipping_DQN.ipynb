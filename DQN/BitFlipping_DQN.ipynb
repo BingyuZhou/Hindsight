{
 "cells": [
  {
   "cell_type": "markdown",
   "metadata": {},
   "source": [
    "# Bit flipping game with DQN solver\n",
    "\n",
    "This is the implementation of the DQN solver for the bit flipping game in [**Hindsight Experience Replay**](https://arxiv.org/abs/1707.01495).\n",
    "\n",
    "**Rerefence**:\n",
    "\n",
    "1. Marcin Andrychowicz, Filip Wolski, Alex Ray, Jonas Schneider, Rachel Fong, Peter Welinder, Bob McGrew, Josh Tobin, Pieter Abbeel, Wojciech Zaremba, Hindsight Experience Replay\n"
   ]
  },
  {
   "cell_type": "code",
   "execution_count": 1,
   "metadata": {
    "slideshow": {
     "slide_type": "-"
    }
   },
   "outputs": [],
   "source": [
    "from __future__ import absolute_import\n",
    "from __future__ import division\n",
    "from __future__ import print_function\n",
    "\n",
    "import tensorflow as tf\n",
    "import numpy as np\n",
    "import matplotlib.pyplot as plt\n",
    "from bitflipping import bitflipping as bf\n",
    "from DQN import DQN\n",
    "\n",
    "plt.rcParams['figure.figsize'] = [15, 20]\n",
    "%matplotlib inline"
   ]
  },
  {
   "cell_type": "markdown",
   "metadata": {},
   "source": [
    "## Set up the bit flipping game environment"
   ]
  },
  {
   "cell_type": "code",
   "execution_count": 2,
   "metadata": {},
   "outputs": [],
   "source": [
    "init_state = np.array([0,1])\n",
    "goal = np.ones((2,))\n",
    "n = 4\n",
    "bf_env = bf(n)"
   ]
  },
  {
   "cell_type": "markdown",
   "metadata": {},
   "source": [
    "## Build up the DQN neural network"
   ]
  },
  {
   "cell_type": "code",
   "execution_count": 3,
   "metadata": {},
   "outputs": [],
   "source": [
    "tf.reset_default_graph()\n",
    "\n",
    "\n",
    "x = tf.placeholder(tf.float32, shape=(None, 2*n))\n",
    "y = tf.placeholder(tf.float32, shape=(None, 1))\n",
    "\n",
    "\n",
    "hid = [256]\n",
    "agent = DQN(x, hid, n, discount=0.98, eps=1.0, tau = 0.95, replay_buffer_size=1e5, batch_size=128)"
   ]
  },
  {
   "cell_type": "code",
   "execution_count": null,
   "metadata": {
    "scrolled": true
   },
   "outputs": [
    {
     "name": "stdout",
     "output_type": "stream",
     "text": [
      "Epoch 0 Cycle 0: loss is 0.0213, success rate 0.1875\n",
      "Epoch 0 Cycle 1: loss is 0.0299, success rate 0.3125\n",
      "Epoch 0 Cycle 2: loss is 0.0231, success rate 0.25\n",
      "Epoch 0 Cycle 3: loss is 0.0271, success rate 0.25\n",
      "Epoch 0 Cycle 4: loss is 0.0208, success rate 0.1875\n",
      "Epoch 0 Cycle 5: loss is 0.0338, success rate 0.1875\n",
      "Epoch 0 Cycle 6: loss is 0.0393, success rate 0.25\n",
      "Epoch 0 Cycle 7: loss is 0.0213, success rate 0.125\n",
      "Epoch 0 Cycle 8: loss is 0.0409, success rate 0.0625\n",
      "Epoch 0 Cycle 9: loss is 0.031, success rate 0.25\n",
      "Epoch 0 Cycle 10: loss is 0.0328, success rate 0.0625\n",
      "Epoch 0 Cycle 11: loss is 0.0383, success rate 0.4375\n",
      "Epoch 0 Cycle 12: loss is 0.0397, success rate 0.0625\n",
      "Epoch 0 Cycle 13: loss is 0.0271, success rate 0.1875\n",
      "Epoch 0 Cycle 14: loss is 0.0437, success rate 0.1875\n",
      "Epoch 0 Cycle 15: loss is 0.0397, success rate 0.25\n",
      "Epoch 0 Cycle 16: loss is 0.0525, success rate 0.125\n",
      "Epoch 0 Cycle 17: loss is 0.0434, success rate 0.4375\n",
      "Epoch 0 Cycle 18: loss is 0.0396, success rate 0.25\n",
      "Epoch 0 Cycle 19: loss is 0.0527, success rate 0.0625\n",
      "Epoch 0 Cycle 20: loss is 0.0489, success rate 0.125\n",
      "Epoch 0 Cycle 21: loss is 0.0438, success rate 0.25\n",
      "Epoch 0 Cycle 22: loss is 0.087, success rate 0.5\n",
      "Epoch 0 Cycle 23: loss is 0.0546, success rate 0.25\n",
      "Epoch 0 Cycle 24: loss is 0.0795, success rate 0.1875\n",
      "Epoch 0 Cycle 25: loss is 0.0354, success rate 0.125\n",
      "Epoch 0 Cycle 26: loss is 0.0346, success rate 0.375\n",
      "Epoch 0 Cycle 27: loss is 0.0699, success rate 0.25\n",
      "Epoch 0 Cycle 28: loss is 0.0546, success rate 0.1875\n",
      "Epoch 0 Cycle 29: loss is 0.0837, success rate 0.0625\n",
      "Epoch 0 Cycle 30: loss is 0.05, success rate 0.3125\n",
      "Epoch 0 Cycle 31: loss is 0.0793, success rate 0.25\n",
      "Epoch 0 Cycle 32: loss is 0.0813, success rate 0.375\n",
      "Epoch 0 Cycle 33: loss is 0.114, success rate 0.125\n",
      "Epoch 0 Cycle 34: loss is 0.107, success rate 0.3125\n",
      "Epoch 0 Cycle 35: loss is 0.12, success rate 0.25\n",
      "Epoch 0 Cycle 36: loss is 0.123, success rate 0.375\n",
      "Epoch 0 Cycle 37: loss is 0.0931, success rate 0.25\n",
      "Epoch 0 Cycle 38: loss is 0.164, success rate 0.1875\n",
      "Epoch 0 Cycle 39: loss is 0.0991, success rate 0.125\n",
      "Epoch 0 Cycle 40: loss is 0.0769, success rate 0.1875\n",
      "Epoch 0 Cycle 41: loss is 0.116, success rate 0.3125\n",
      "Epoch 0 Cycle 42: loss is 0.0923, success rate 0.0625\n",
      "Epoch 0 Cycle 43: loss is 0.133, success rate 0.3125\n",
      "Epoch 0 Cycle 44: loss is 0.137, success rate 0.1875\n",
      "Epoch 0 Cycle 45: loss is 0.0851, success rate 0.1875\n",
      "Epoch 0 Cycle 46: loss is 0.115, success rate 0.125\n",
      "Epoch 0 Cycle 47: loss is 0.103, success rate 0.25\n",
      "Epoch 0 Cycle 48: loss is 0.166, success rate 0.0625\n",
      "Epoch 0 Cycle 49: loss is 0.0922, success rate 0.25\n",
      "Epoch 1 Cycle 0: loss is 0.201, success rate 0.3125\n",
      "Epoch 1 Cycle 1: loss is 0.127, success rate 0.25\n",
      "Epoch 1 Cycle 2: loss is 0.146, success rate 0.1875\n",
      "Epoch 1 Cycle 3: loss is 0.166, success rate 0.1875\n",
      "Epoch 1 Cycle 4: loss is 0.0862, success rate 0.125\n",
      "Epoch 1 Cycle 5: loss is 0.188, success rate 0.25\n",
      "Epoch 1 Cycle 6: loss is 0.157, success rate 0.1875\n",
      "Epoch 1 Cycle 7: loss is 0.0899, success rate 0.1875\n",
      "Epoch 1 Cycle 8: loss is 0.127, success rate 0.0625\n",
      "Epoch 1 Cycle 9: loss is 0.201, success rate 0.25\n",
      "Epoch 1 Cycle 10: loss is 0.149, success rate 0.375\n",
      "Epoch 1 Cycle 11: loss is 0.228, success rate 0.125\n",
      "Epoch 1 Cycle 12: loss is 0.155, success rate 0.0625\n",
      "Epoch 1 Cycle 13: loss is 0.119, success rate 0.3125\n",
      "Epoch 1 Cycle 14: loss is 0.258, success rate 0.1875\n",
      "Epoch 1 Cycle 15: loss is 0.202, success rate 0.25\n",
      "Epoch 1 Cycle 16: loss is 0.187, success rate 0.3125\n",
      "Epoch 1 Cycle 17: loss is 0.106, success rate 0.5625\n",
      "Epoch 1 Cycle 18: loss is 0.15, success rate 0.1875\n",
      "Epoch 1 Cycle 19: loss is 0.0868, success rate 0.1875\n",
      "Epoch 1 Cycle 20: loss is 0.153, success rate 0.125\n",
      "Epoch 1 Cycle 21: loss is 0.0679, success rate 0.3125\n",
      "Epoch 1 Cycle 22: loss is 0.135, success rate 0.25\n",
      "Epoch 1 Cycle 23: loss is 0.137, success rate 0.1875\n",
      "Epoch 1 Cycle 24: loss is 0.139, success rate 0.1875\n",
      "Epoch 1 Cycle 25: loss is 0.234, success rate 0.1875\n",
      "Epoch 1 Cycle 26: loss is 0.19, success rate 0.0625\n",
      "Epoch 1 Cycle 27: loss is 0.0971, success rate 0.375\n",
      "Epoch 1 Cycle 28: loss is 0.171, success rate 0.1875\n",
      "Epoch 1 Cycle 29: loss is 0.295, success rate 0.3125\n",
      "Epoch 1 Cycle 30: loss is 0.152, success rate 0.1875\n",
      "Epoch 1 Cycle 31: loss is 0.178, success rate 0.375\n",
      "Epoch 1 Cycle 32: loss is 0.23, success rate 0.375\n",
      "Epoch 1 Cycle 33: loss is 0.259, success rate 0.3125\n",
      "Epoch 1 Cycle 34: loss is 0.132, success rate 0.125\n",
      "Epoch 1 Cycle 35: loss is 0.212, success rate 0.125\n",
      "Epoch 1 Cycle 36: loss is 0.242, success rate 0.125\n",
      "Epoch 1 Cycle 37: loss is 0.298, success rate 0.25\n",
      "Epoch 1 Cycle 38: loss is 0.247, success rate 0.4375\n",
      "Epoch 1 Cycle 39: loss is 0.25, success rate 0.25\n",
      "Epoch 1 Cycle 40: loss is 0.39, success rate 0.1875\n",
      "Epoch 1 Cycle 41: loss is 0.311, success rate 0.25\n",
      "Epoch 1 Cycle 42: loss is 0.315, success rate 0.0625\n",
      "Epoch 1 Cycle 43: loss is 0.347, success rate 0.25\n",
      "Epoch 1 Cycle 44: loss is 0.293, success rate 0.375\n",
      "Epoch 1 Cycle 45: loss is 0.266, success rate 0.3125\n",
      "Epoch 1 Cycle 46: loss is 0.211, success rate 0.125\n",
      "Epoch 1 Cycle 47: loss is 0.392, success rate 0.0625\n",
      "Epoch 1 Cycle 48: loss is 0.366, success rate 0.3125\n",
      "Epoch 1 Cycle 49: loss is 0.308, success rate 0.3125\n",
      "Epoch 2 Cycle 0: loss is 0.249, success rate 0.25\n",
      "Epoch 2 Cycle 1: loss is 0.158, success rate 0.3125\n",
      "Epoch 2 Cycle 2: loss is 0.129, success rate 0.125\n",
      "Epoch 2 Cycle 3: loss is 0.132, success rate 0.375\n",
      "Epoch 2 Cycle 4: loss is 0.356, success rate 0.4375\n",
      "Epoch 2 Cycle 5: loss is 0.262, success rate 0.25\n",
      "Epoch 2 Cycle 6: loss is 0.199, success rate 0.4375\n",
      "Epoch 2 Cycle 7: loss is 0.4, success rate 0.3125\n",
      "Epoch 2 Cycle 8: loss is 0.269, success rate 0.125\n",
      "Epoch 2 Cycle 9: loss is 0.171, success rate 0.1875\n",
      "Epoch 2 Cycle 10: loss is 0.241, success rate 0.375\n",
      "Epoch 2 Cycle 11: loss is 0.277, success rate   0\n",
      "Epoch 2 Cycle 12: loss is 0.314, success rate 0.25\n",
      "Epoch 2 Cycle 13: loss is 0.179, success rate 0.375\n",
      "Epoch 2 Cycle 14: loss is 0.354, success rate 0.25\n",
      "Epoch 2 Cycle 15: loss is 0.323, success rate 0.125\n",
      "Epoch 2 Cycle 16: loss is 0.324, success rate 0.3125\n",
      "Epoch 2 Cycle 17: loss is 0.473, success rate 0.125\n",
      "Epoch 2 Cycle 18: loss is 0.148, success rate 0.5\n",
      "Epoch 2 Cycle 19: loss is 0.371, success rate 0.3125\n",
      "Epoch 2 Cycle 20: loss is 0.261, success rate 0.375\n",
      "Epoch 2 Cycle 21: loss is 0.189, success rate 0.3125\n",
      "Epoch 2 Cycle 22: loss is 0.303, success rate 0.375\n",
      "Epoch 2 Cycle 23: loss is 0.192, success rate 0.3125\n",
      "Epoch 2 Cycle 24: loss is 0.385, success rate 0.3125\n",
      "Epoch 2 Cycle 25: loss is 0.311, success rate 0.375\n",
      "Epoch 2 Cycle 26: loss is 0.196, success rate 0.1875\n",
      "Epoch 2 Cycle 27: loss is 0.394, success rate 0.375\n",
      "Epoch 2 Cycle 28: loss is 0.278, success rate 0.5\n",
      "Epoch 2 Cycle 29: loss is 0.519, success rate 0.1875\n",
      "Epoch 2 Cycle 30: loss is 0.203, success rate 0.0625\n",
      "Epoch 2 Cycle 31: loss is 0.367, success rate 0.1875\n",
      "Epoch 2 Cycle 32: loss is 0.287, success rate 0.5\n",
      "Epoch 2 Cycle 33: loss is 0.454, success rate 0.1875\n",
      "Epoch 2 Cycle 34: loss is 0.168, success rate 0.3125\n",
      "Epoch 2 Cycle 35: loss is 0.252, success rate 0.4375\n",
      "Epoch 2 Cycle 36: loss is 0.547, success rate 0.4375\n",
      "Epoch 2 Cycle 37: loss is 0.298, success rate 0.3125\n",
      "Epoch 2 Cycle 38: loss is 0.427, success rate 0.4375\n",
      "Epoch 2 Cycle 39: loss is 0.517, success rate 0.3125\n",
      "Epoch 2 Cycle 40: loss is 0.477, success rate 0.4375\n",
      "Epoch 2 Cycle 41: loss is 0.394, success rate 0.5\n",
      "Epoch 2 Cycle 42: loss is 0.224, success rate 0.4375\n",
      "Epoch 2 Cycle 43: loss is 0.179, success rate 0.375\n",
      "Epoch 2 Cycle 44: loss is 0.446, success rate 0.4375\n",
      "Epoch 2 Cycle 45: loss is 0.404, success rate 0.25\n",
      "Epoch 2 Cycle 46: loss is 0.317, success rate 0.5\n",
      "Epoch 2 Cycle 47: loss is 0.455, success rate 0.1875\n",
      "Epoch 2 Cycle 48: loss is 0.412, success rate 0.25\n",
      "Epoch 2 Cycle 49: loss is 0.369, success rate 0.3125\n",
      "Epoch 3 Cycle 0: loss is 0.418, success rate 0.3125\n",
      "Epoch 3 Cycle 1: loss is 0.513, success rate 0.25\n",
      "Epoch 3 Cycle 2: loss is 0.423, success rate 0.4375\n",
      "Epoch 3 Cycle 3: loss is 0.285, success rate 0.4375\n",
      "Epoch 3 Cycle 4: loss is 0.429, success rate 0.25\n",
      "Epoch 3 Cycle 5: loss is 0.383, success rate 0.4375\n"
     ]
    }
   ],
   "source": [
    "losses, success_all = agent.train_Q(x, y, epoch=8, cycles=50, episode=16, iteration=60)"
   ]
  },
  {
   "cell_type": "code",
   "execution_count": null,
   "metadata": {},
   "outputs": [],
   "source": [
    "plt.figure()\n",
    "plt.plot(losses)\n",
    "plt.show()"
   ]
  },
  {
   "cell_type": "markdown",
   "metadata": {},
   "source": [
    "## Test DQN"
   ]
  },
  {
   "cell_type": "code",
   "execution_count": null,
   "metadata": {},
   "outputs": [],
   "source": [
    "with tf.Session() as sess:\n",
    "    saver = tf.train.Saver()\n",
    "    saver.restore(sess, '/tmp/model.ckpt')\n",
    "    \n",
    "    success = 0\n",
    "    for i in range(100):\n",
    "        \n",
    "        bf_env.reset()\n",
    "\n",
    "        for i in range(n):\n",
    "            X = np.concatenate((bf_env.state.reshape((1,-1)),bf_env.goal.reshape((1,-1))), axis=1)\n",
    "            Q = sess.run(agent.targetModel, feed_dict={x: X})\n",
    "            action = np.argmax(Q)\n",
    "            bf_env.update_state(action)\n",
    "            if (bf_env.reward(bf_env.state)==0):\n",
    "                print('Success! state:{0}\\t Goal state:{1}'.format(bf_env.state, bf_env.goal))\n",
    "                success += 1\n",
    "                break\n",
    "            elif (i==n-1):\n",
    "                print('Fail! state:{0}\\t Goal state:{1}'.format(bf_env.state, bf_env.goal))\n",
    "                \n",
    "    print('Success rate {}%'.format(success))"
   ]
  },
  {
   "cell_type": "code",
   "execution_count": null,
   "metadata": {},
   "outputs": [],
   "source": [
    "a=np.array([[1,2,3,2,1,3]])"
   ]
  },
  {
   "cell_type": "code",
   "execution_count": null,
   "metadata": {},
   "outputs": [],
   "source": [
    "a.shape"
   ]
  },
  {
   "cell_type": "code",
   "execution_count": null,
   "metadata": {},
   "outputs": [],
   "source": [
    "s=np.argmax(a)"
   ]
  },
  {
   "cell_type": "code",
   "execution_count": null,
   "metadata": {},
   "outputs": [],
   "source": []
  },
  {
   "cell_type": "code",
   "execution_count": null,
   "metadata": {},
   "outputs": [],
   "source": []
  }
 ],
 "metadata": {
  "kernelspec": {
   "display_name": "Python 3",
   "language": "python",
   "name": "python3"
  },
  "language_info": {
   "codemirror_mode": {
    "name": "ipython",
    "version": 3
   },
   "file_extension": ".py",
   "mimetype": "text/x-python",
   "name": "python",
   "nbconvert_exporter": "python",
   "pygments_lexer": "ipython3",
   "version": "3.6.5"
  }
 },
 "nbformat": 4,
 "nbformat_minor": 2
}
