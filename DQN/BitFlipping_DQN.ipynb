{
 "cells": [
  {
   "cell_type": "markdown",
   "metadata": {},
   "source": [
    "# Bit flipping game with DQN solver\n",
    "\n",
    "This is the implementation of the DQN solver for the bit flipping game in [**Hindsight Experience Replay**](https://arxiv.org/abs/1707.01495).\n",
    "\n",
    "**Rerefence**:\n",
    "\n",
    "1. Marcin Andrychowicz, Filip Wolski, Alex Ray, Jonas Schneider, Rachel Fong, Peter Welinder, Bob McGrew, Josh Tobin, Pieter Abbeel, Wojciech Zaremba, Hindsight Experience Replay\n"
   ]
  },
  {
   "cell_type": "code",
   "execution_count": 1,
   "metadata": {
    "slideshow": {
     "slide_type": "-"
    }
   },
   "outputs": [],
   "source": [
    "from __future__ import absolute_import\n",
    "from __future__ import division\n",
    "from __future__ import print_function\n",
    "\n",
    "import tensorflow as tf\n",
    "import numpy as np\n",
    "import matplotlib.pyplot as plt\n",
    "from bitflipping import bitflipping as bf\n",
    "from DQN import DQN\n",
    "\n",
    "plt.rcParams['figure.figsize'] = [15, 20]\n",
    "%matplotlib inline"
   ]
  },
  {
   "cell_type": "markdown",
   "metadata": {},
   "source": [
    "## Set up the bit flipping game environment"
   ]
  },
  {
   "cell_type": "code",
   "execution_count": 2,
   "metadata": {},
   "outputs": [],
   "source": [
    "init_state = np.array([0,1])\n",
    "goal = np.ones((2,))\n",
    "n = 4\n",
    "bf_env = bf(n)"
   ]
  },
  {
   "cell_type": "markdown",
   "metadata": {},
   "source": [
    "## Build up the DQN neural network"
   ]
  },
  {
   "cell_type": "code",
   "execution_count": 3,
   "metadata": {},
   "outputs": [],
   "source": [
    "tf.reset_default_graph()\n",
    "\n",
    "\n",
    "x = tf.placeholder(tf.float32, shape=(None, 2*n))\n",
    "y = tf.placeholder(tf.float32, shape=(None, 1))\n",
    "\n",
    "\n",
    "hid = [256]\n",
    "agent = DQN(x, hid, n, discount=0.98, eps=0.5, tau = 0.95, replay_buffer_size=1e5, batch_size=128)"
   ]
  },
  {
   "cell_type": "code",
   "execution_count": null,
   "metadata": {
    "scrolled": true
   },
   "outputs": [
    {
     "name": "stdout",
     "output_type": "stream",
     "text": [
      "Epoch 0 Cycle 0: loss is 0.0314\n",
      "Epoch 0 Cycle 1: loss is 0.0159\n",
      "Epoch 0 Cycle 2: loss is 0.0179\n",
      "Epoch 0 Cycle 3: loss is 0.0266\n",
      "Epoch 0 Cycle 4: loss is 0.0204\n",
      "Epoch 0 Cycle 5: loss is 0.0319\n",
      "Epoch 0 Cycle 6: loss is 0.0181\n",
      "Epoch 0 Cycle 7: loss is 0.0303\n",
      "Epoch 0 Cycle 8: loss is 0.0157\n",
      "Epoch 0 Cycle 9: loss is 0.011\n",
      "Epoch 0 Cycle 10: loss is 0.03\n",
      "Epoch 0 Cycle 11: loss is 0.0308\n",
      "Epoch 0 Cycle 12: loss is 0.017\n",
      "Epoch 0 Cycle 13: loss is 0.0333\n",
      "Epoch 0 Cycle 14: loss is 0.00907\n",
      "Epoch 0 Cycle 15: loss is 0.036\n",
      "Epoch 0 Cycle 16: loss is 0.0545\n",
      "Epoch 0 Cycle 17: loss is 0.0512\n",
      "Epoch 0 Cycle 18: loss is 0.0397\n",
      "Epoch 0 Cycle 19: loss is 0.035\n",
      "Epoch 0 Cycle 20: loss is 0.037\n",
      "Epoch 0 Cycle 21: loss is 0.00845\n",
      "Epoch 0 Cycle 22: loss is 0.0458\n",
      "Epoch 0 Cycle 23: loss is 0.0397\n",
      "Epoch 0 Cycle 24: loss is 0.0412\n",
      "Epoch 0 Cycle 25: loss is 0.0425\n",
      "Epoch 0 Cycle 26: loss is 0.0608\n",
      "Epoch 0 Cycle 27: loss is 0.0452\n",
      "Epoch 0 Cycle 28: loss is 0.0555\n",
      "Epoch 0 Cycle 29: loss is 0.0485\n",
      "Epoch 0 Cycle 30: loss is 0.078\n",
      "Epoch 0 Cycle 31: loss is 0.0608\n",
      "Epoch 0 Cycle 32: loss is 0.0826\n",
      "Epoch 0 Cycle 33: loss is 0.0746\n",
      "Epoch 0 Cycle 34: loss is 0.0659\n",
      "Epoch 0 Cycle 35: loss is 0.114\n",
      "Epoch 0 Cycle 36: loss is 0.0694\n",
      "Epoch 0 Cycle 37: loss is 0.0599\n",
      "Epoch 0 Cycle 38: loss is 0.0377\n",
      "Epoch 0 Cycle 39: loss is 0.0263\n",
      "Epoch 0 Cycle 40: loss is 0.026\n",
      "Epoch 0 Cycle 41: loss is 0.105\n",
      "Epoch 0 Cycle 42: loss is 0.0672\n",
      "Epoch 0 Cycle 43: loss is 0.11\n",
      "Epoch 0 Cycle 44: loss is 0.0428\n",
      "Epoch 0 Cycle 45: loss is 0.0583\n",
      "Epoch 0 Cycle 46: loss is 0.0734\n",
      "Epoch 0 Cycle 47: loss is 0.0459\n",
      "Epoch 0 Cycle 48: loss is 0.0767\n",
      "Epoch 0 Cycle 49: loss is 0.0321\n",
      "Epoch 1 Cycle 0: loss is 0.0804\n",
      "Epoch 1 Cycle 1: loss is 0.0655\n",
      "Epoch 1 Cycle 2: loss is 0.0335\n",
      "Epoch 1 Cycle 3: loss is 0.135\n",
      "Epoch 1 Cycle 4: loss is 0.0872\n",
      "Epoch 1 Cycle 5: loss is 0.0528\n",
      "Epoch 1 Cycle 6: loss is 0.0893\n",
      "Epoch 1 Cycle 7: loss is 0.0366\n",
      "Epoch 1 Cycle 8: loss is 0.111\n",
      "Epoch 1 Cycle 9: loss is 0.0568\n",
      "Epoch 1 Cycle 10: loss is 0.0769\n",
      "Epoch 1 Cycle 11: loss is 0.137\n",
      "Epoch 1 Cycle 12: loss is 0.0794\n",
      "Epoch 1 Cycle 13: loss is 0.081\n",
      "Epoch 1 Cycle 14: loss is 0.164\n",
      "Epoch 1 Cycle 15: loss is 0.125\n",
      "Epoch 1 Cycle 16: loss is 0.0635\n",
      "Epoch 1 Cycle 17: loss is 0.107\n",
      "Epoch 1 Cycle 18: loss is 0.109\n",
      "Epoch 1 Cycle 19: loss is 0.11\n",
      "Epoch 1 Cycle 20: loss is 0.0905\n",
      "Epoch 1 Cycle 21: loss is 0.114\n",
      "Epoch 1 Cycle 22: loss is 0.0933\n",
      "Epoch 1 Cycle 23: loss is 0.0938\n",
      "Epoch 1 Cycle 24: loss is 0.142\n",
      "Epoch 1 Cycle 25: loss is 0.143\n",
      "Epoch 1 Cycle 26: loss is 0.194\n",
      "Epoch 1 Cycle 27: loss is 0.123\n",
      "Epoch 1 Cycle 28: loss is 0.0752\n",
      "Epoch 1 Cycle 29: loss is 0.176\n",
      "Epoch 1 Cycle 30: loss is 0.0769\n",
      "Epoch 1 Cycle 31: loss is 0.208\n",
      "Epoch 1 Cycle 32: loss is 0.158\n",
      "Epoch 1 Cycle 33: loss is 0.237\n",
      "Epoch 1 Cycle 34: loss is 0.293\n",
      "Epoch 1 Cycle 35: loss is 0.136\n",
      "Epoch 1 Cycle 36: loss is 0.219\n",
      "Epoch 1 Cycle 37: loss is 0.139\n",
      "Epoch 1 Cycle 38: loss is 0.196\n",
      "Epoch 1 Cycle 39: loss is 0.143\n",
      "Epoch 1 Cycle 40: loss is 0.058\n",
      "Epoch 1 Cycle 41: loss is 0.117\n",
      "Epoch 1 Cycle 42: loss is 0.0884\n",
      "Epoch 1 Cycle 43: loss is 0.0897\n",
      "Epoch 1 Cycle 44: loss is 0.0908\n",
      "Epoch 1 Cycle 45: loss is 0.153\n",
      "Epoch 1 Cycle 46: loss is 0.275\n",
      "Epoch 1 Cycle 47: loss is 0.4\n",
      "Epoch 1 Cycle 48: loss is 0.188\n",
      "Epoch 1 Cycle 49: loss is 0.158\n",
      "Epoch 2 Cycle 0: loss is 0.286\n",
      "Epoch 2 Cycle 1: loss is 0.161\n",
      "Epoch 2 Cycle 2: loss is 0.227\n",
      "Epoch 2 Cycle 3: loss is 0.262\n",
      "Epoch 2 Cycle 4: loss is 0.2\n",
      "Epoch 2 Cycle 5: loss is 0.168\n",
      "Epoch 2 Cycle 6: loss is 0.437\n",
      "Epoch 2 Cycle 7: loss is 0.206\n",
      "Epoch 2 Cycle 8: loss is 0.14\n",
      "Epoch 2 Cycle 9: loss is 0.243\n",
      "Epoch 2 Cycle 10: loss is 0.279\n",
      "Epoch 2 Cycle 11: loss is 0.247\n",
      "Epoch 2 Cycle 12: loss is 0.0718\n",
      "Epoch 2 Cycle 13: loss is 0.252\n",
      "Epoch 2 Cycle 14: loss is 0.254\n",
      "Epoch 2 Cycle 15: loss is 0.147\n",
      "Epoch 2 Cycle 16: loss is 0.221\n",
      "Epoch 2 Cycle 17: loss is 0.0784\n",
      "Epoch 2 Cycle 18: loss is 0.3\n",
      "Epoch 2 Cycle 19: loss is 0.377\n",
      "Epoch 2 Cycle 20: loss is 0.229\n",
      "Epoch 2 Cycle 21: loss is 0.0789\n",
      "Epoch 2 Cycle 22: loss is 0.194\n",
      "Epoch 2 Cycle 23: loss is 0.428\n",
      "Epoch 2 Cycle 24: loss is 0.118\n",
      "Epoch 2 Cycle 25: loss is 0.159\n",
      "Epoch 2 Cycle 26: loss is 0.16\n",
      "Epoch 2 Cycle 27: loss is 0.404\n",
      "Epoch 2 Cycle 28: loss is 0.122\n",
      "Epoch 2 Cycle 29: loss is 0.124\n",
      "Epoch 2 Cycle 30: loss is 0.33\n",
      "Epoch 2 Cycle 31: loss is 0.208\n",
      "Epoch 2 Cycle 32: loss is 0.252\n",
      "Epoch 2 Cycle 33: loss is 0.462\n",
      "Epoch 2 Cycle 34: loss is 0.129\n",
      "Epoch 2 Cycle 35: loss is 0.257\n",
      "Epoch 2 Cycle 36: loss is 0.516\n",
      "Epoch 2 Cycle 37: loss is 0.174\n",
      "Epoch 2 Cycle 38: loss is 0.349\n",
      "Epoch 2 Cycle 39: loss is 0.308\n",
      "Epoch 2 Cycle 40: loss is 0.223\n",
      "Epoch 2 Cycle 41: loss is 0.135\n",
      "Epoch 2 Cycle 42: loss is 0.314\n",
      "Epoch 2 Cycle 43: loss is 0.226\n",
      "Epoch 2 Cycle 44: loss is 0.228\n",
      "Epoch 2 Cycle 45: loss is 0.458\n",
      "Epoch 2 Cycle 46: loss is 0.369\n",
      "Epoch 2 Cycle 47: loss is 0.0933\n",
      "Epoch 2 Cycle 48: loss is 0.608\n",
      "Epoch 2 Cycle 49: loss is 0.423\n",
      "Epoch 3 Cycle 0: loss is 0.332\n",
      "Epoch 3 Cycle 1: loss is 0.43\n",
      "Epoch 3 Cycle 2: loss is 0.195\n",
      "Epoch 3 Cycle 3: loss is 0.29\n",
      "Epoch 3 Cycle 4: loss is 0.342\n",
      "Epoch 3 Cycle 5: loss is 0.245\n",
      "Epoch 3 Cycle 6: loss is 0.394\n",
      "Epoch 3 Cycle 7: loss is 0.199\n",
      "Epoch 3 Cycle 8: loss is 0.4\n",
      "Epoch 3 Cycle 9: loss is 0.301\n",
      "Epoch 3 Cycle 10: loss is 0.303\n",
      "Epoch 3 Cycle 11: loss is 0.506\n",
      "Epoch 3 Cycle 12: loss is 0.256\n",
      "Epoch 3 Cycle 13: loss is 0.411\n",
      "Epoch 3 Cycle 14: loss is 0.207\n",
      "Epoch 3 Cycle 15: loss is 0.26\n",
      "Epoch 3 Cycle 16: loss is 0.521\n",
      "Epoch 3 Cycle 17: loss is 0.524\n",
      "Epoch 3 Cycle 18: loss is 0.266\n",
      "Epoch 3 Cycle 19: loss is 0.372\n",
      "Epoch 3 Cycle 20: loss is 0.267\n",
      "Epoch 3 Cycle 21: loss is 0.376\n",
      "Epoch 3 Cycle 22: loss is 0.593\n",
      "Epoch 3 Cycle 23: loss is 0.382\n",
      "Epoch 3 Cycle 24: loss is 0.491\n",
      "Epoch 3 Cycle 25: loss is 0.0579\n",
      "Epoch 3 Cycle 26: loss is 0.497\n",
      "Epoch 3 Cycle 27: loss is 0.609\n",
      "Epoch 3 Cycle 28: loss is 0.39\n",
      "Epoch 3 Cycle 29: loss is 0.781\n",
      "Epoch 3 Cycle 30: loss is 0.452\n",
      "Epoch 3 Cycle 31: loss is 0.623\n"
     ]
    }
   ],
   "source": [
    "losses, success_all = agent.train_Q(x, y, epoch=5, cycles=50, episode=16, iteration=40)"
   ]
  },
  {
   "cell_type": "code",
   "execution_count": null,
   "metadata": {},
   "outputs": [],
   "source": [
    "plt.figure()\n",
    "plt.plot(losses)\n",
    "plt.show()"
   ]
  },
  {
   "cell_type": "markdown",
   "metadata": {},
   "source": [
    "## Test DQN"
   ]
  },
  {
   "cell_type": "code",
   "execution_count": null,
   "metadata": {},
   "outputs": [],
   "source": [
    "with tf.Session() as sess:\n",
    "    saver = tf.train.Saver()\n",
    "    saver.restore(sess, '/tmp/model.ckpt')\n",
    "    \n",
    "    success = 0\n",
    "    for i in range(100):\n",
    "        \n",
    "        bf_env.reset()\n",
    "\n",
    "        for i in range(n):\n",
    "            X = np.concatenate((bf_env.state.reshape((1,-1)),bf_env.goal.reshape((1,-1))), axis=1)\n",
    "            Q = sess.run(agent.targetModel, feed_dict={x: X})\n",
    "            action = np.argmax(Q)\n",
    "            bf_env.update_state(action)\n",
    "            if (bf_env.reward(bf_env.state)==0):\n",
    "                print('Success! state:{0}\\t Goal state:{1}'.format(bf_env.state, bf_env.goal))\n",
    "                success += 1\n",
    "                break\n",
    "            elif (i==n-1):\n",
    "                print('Fail! state:{0}\\t Goal state:{1}'.format(bf_env.state, bf_env.goal))\n",
    "                \n",
    "    print('Success rate {}%'.format(success))"
   ]
  },
  {
   "cell_type": "code",
   "execution_count": null,
   "metadata": {},
   "outputs": [],
   "source": [
    "a=np.array([[1,2,3,2,1,3]])"
   ]
  },
  {
   "cell_type": "code",
   "execution_count": null,
   "metadata": {},
   "outputs": [],
   "source": [
    "a.shape"
   ]
  },
  {
   "cell_type": "code",
   "execution_count": null,
   "metadata": {},
   "outputs": [],
   "source": [
    "s=np.argmax(a)"
   ]
  },
  {
   "cell_type": "code",
   "execution_count": null,
   "metadata": {},
   "outputs": [],
   "source": []
  },
  {
   "cell_type": "code",
   "execution_count": null,
   "metadata": {},
   "outputs": [],
   "source": []
  }
 ],
 "metadata": {
  "kernelspec": {
   "display_name": "Python 3",
   "language": "python",
   "name": "python3"
  },
  "language_info": {
   "codemirror_mode": {
    "name": "ipython",
    "version": 3
   },
   "file_extension": ".py",
   "mimetype": "text/x-python",
   "name": "python",
   "nbconvert_exporter": "python",
   "pygments_lexer": "ipython3",
   "version": "3.6.5"
  }
 },
 "nbformat": 4,
 "nbformat_minor": 2
}
