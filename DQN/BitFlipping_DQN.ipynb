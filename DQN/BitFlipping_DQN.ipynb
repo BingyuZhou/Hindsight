{
 "cells": [
  {
   "cell_type": "markdown",
   "metadata": {},
   "source": [
    "# Bit flipping game with DQN solver\n",
    "\n",
    "This is the implementation of the DQN solver for the bit flipping game in [**Hindsight Experience Replay**](https://arxiv.org/abs/1707.01495).\n",
    "\n",
    "**Rerefence**:\n",
    "\n",
    "1. Marcin Andrychowicz, Filip Wolski, Alex Ray, Jonas Schneider, Rachel Fong, Peter Welinder, Bob McGrew, Josh Tobin, Pieter Abbeel, Wojciech Zaremba, Hindsight Experience Replay\n"
   ]
  },
  {
   "cell_type": "code",
   "execution_count": 1,
   "metadata": {
    "slideshow": {
     "slide_type": "-"
    }
   },
   "outputs": [],
   "source": [
    "from __future__ import absolute_import\n",
    "from __future__ import division\n",
    "from __future__ import print_function\n",
    "\n",
    "import tensorflow as tf\n",
    "import numpy as np\n",
    "import matplotlib.pyplot as plt\n",
    "from bitflipping import bitflipping as bf\n",
    "from DQN import DQN\n",
    "\n",
    "plt.rcParams['figure.figsize'] = [15, 20]\n",
    "%matplotlib inline"
   ]
  },
  {
   "cell_type": "markdown",
   "metadata": {},
   "source": [
    "## Set up the bit flipping game environment"
   ]
  },
  {
   "cell_type": "code",
   "execution_count": 2,
   "metadata": {},
   "outputs": [],
   "source": [
    "init_state = np.array([0,1])\n",
    "goal = np.ones((2,))\n",
    "n = 4\n",
    "bf_env = bf(n)"
   ]
  },
  {
   "cell_type": "markdown",
   "metadata": {},
   "source": [
    "## Build up the DQN neural network"
   ]
  },
  {
   "cell_type": "code",
   "execution_count": 3,
   "metadata": {},
   "outputs": [],
   "source": [
    "tf.reset_default_graph()\n",
    "\n",
    "\n",
    "x = tf.placeholder(tf.float32, shape=(None, 2*n))\n",
    "y = tf.placeholder(tf.float32, shape=(None, 1))\n",
    "\n",
    "\n",
    "hid = [256]\n",
    "agent = DQN(x, hid, n, discount=0.98, eps=0.5, tau = 0.8, replay_buffer_size=1e5, batch_size=32)"
   ]
  },
  {
   "cell_type": "code",
   "execution_count": 4,
   "metadata": {
    "scrolled": false
   },
   "outputs": [
    {
     "name": "stdout",
     "output_type": "stream",
     "text": [
      "Epoch 0 Cycle 0: loss is 0.0945, success rate 0.375\n",
      "Epoch 0 Cycle 1: loss is 0.129, success rate 0.25\n",
      "Epoch 0 Cycle 2: loss is 0.127, success rate 0.25\n",
      "Epoch 0 Cycle 3: loss is 0.139, success rate 0.3125\n",
      "Epoch 0 Cycle 4: loss is 0.197, success rate 0.1875\n",
      "Epoch 0 Cycle 5: loss is 0.167, success rate 0.0625\n",
      "Epoch 0 Cycle 6: loss is 0.2, success rate 0.125\n",
      "Epoch 0 Cycle 7: loss is 0.178, success rate 0.0625\n",
      "Epoch 0 Cycle 8: loss is 0.227, success rate 0.25\n",
      "Epoch 0 Cycle 9: loss is 0.244, success rate 0.25\n",
      "Epoch 0 Cycle 10: loss is 0.389, success rate 0.1875\n",
      "Epoch 0 Cycle 11: loss is 0.216, success rate 0.125\n",
      "Epoch 0 Cycle 12: loss is 0.487, success rate 0.1875\n",
      "Epoch 0 Cycle 13: loss is 0.389, success rate 0.3125\n",
      "Epoch 0 Cycle 14: loss is 0.585, success rate 0.0625\n",
      "Epoch 0 Cycle 15: loss is 0.52, success rate 0.3125\n",
      "Epoch 0 Cycle 16: loss is 0.623, success rate 0.5\n",
      "Epoch 0 Cycle 17: loss is 0.381, success rate 0.375\n",
      "Epoch 0 Cycle 18: loss is 0.475, success rate 0.3125\n",
      "Epoch 0 Cycle 19: loss is 0.602, success rate 0.5\n",
      "Epoch 0 Cycle 20: loss is 0.629, success rate 0.0625\n",
      "Epoch 0 Cycle 21: loss is 0.901, success rate 0.5\n",
      "Epoch 0 Cycle 22: loss is 0.619, success rate 0.3125\n",
      "Epoch 0 Cycle 23: loss is 0.785, success rate 0.3125\n",
      "Epoch 0 Cycle 24: loss is 0.641, success rate 0.375\n",
      "Epoch 0 Cycle 25: loss is 0.683, success rate 0.5625\n",
      "Epoch 0 Cycle 26: loss is 1.24, success rate 0.4375\n",
      "Epoch 0 Cycle 27: loss is 0.812, success rate 0.5\n",
      "Epoch 0 Cycle 28: loss is 1.01, success rate 0.375\n",
      "Epoch 0 Cycle 29: loss is 0.866, success rate 0.4375\n",
      "Epoch 0 Cycle 30: loss is 1.55, success rate 0.3125\n",
      "Epoch 0 Cycle 31: loss is 1.09, success rate 0.6875\n",
      "Epoch 0 Cycle 32: loss is 0.699, success rate 0.5\n",
      "Epoch 0 Cycle 33: loss is 0.67, success rate 0.5\n",
      "Epoch 0 Cycle 34: loss is 1.39, success rate 0.25\n",
      "Epoch 0 Cycle 35: loss is 1.2, success rate 0.5\n",
      "Epoch 0 Cycle 36: loss is 0.937, success rate 0.3125\n",
      "Epoch 0 Cycle 37: loss is 0.725, success rate 0.375\n",
      "Epoch 0 Cycle 38: loss is 1.5, success rate 0.375\n",
      "Epoch 0 Cycle 39: loss is 0.86, success rate 0.375\n",
      "Epoch 0 Cycle 40: loss is 1.58, success rate 0.375\n",
      "Epoch 0 Cycle 41: loss is 1.16, success rate 0.4375\n",
      "Epoch 0 Cycle 42: loss is 1.69, success rate 0.5625\n",
      "Epoch 0 Cycle 43: loss is 1.09, success rate 0.5625\n",
      "Epoch 0 Cycle 44: loss is 1.37, success rate 0.4375\n",
      "Epoch 0 Cycle 45: loss is 1.89, success rate 0.5625\n",
      "Epoch 0 Cycle 46: loss is 1.91, success rate 0.75\n",
      "Epoch 0 Cycle 47: loss is 1.42, success rate 0.75\n",
      "Epoch 0 Cycle 48: loss is 2.12, success rate 0.5625\n",
      "Epoch 0 Cycle 49: loss is 1.47, success rate 0.4375\n",
      "Epoch 1 Cycle 0: loss is 1.63, success rate 0.5625\n",
      "Epoch 1 Cycle 1: loss is 2.61, success rate 0.5625\n",
      "Epoch 1 Cycle 2: loss is 1.39, success rate 0.75\n",
      "Epoch 1 Cycle 3: loss is 1.58, success rate 0.75\n",
      "Epoch 1 Cycle 4: loss is 1.57, success rate 0.4375\n",
      "Epoch 1 Cycle 5: loss is 1.46, success rate 0.375\n",
      "Epoch 1 Cycle 6: loss is 1.62, success rate 0.5625\n",
      "Epoch 1 Cycle 7: loss is 1.64, success rate 0.5625\n",
      "Epoch 1 Cycle 8: loss is 1.27, success rate 0.6875\n",
      "Epoch 1 Cycle 9: loss is 2.28, success rate 0.375\n",
      "Epoch 1 Cycle 10: loss is 2.14, success rate 0.375\n",
      "Epoch 1 Cycle 11: loss is 2.15, success rate 0.4375\n",
      "Epoch 1 Cycle 12: loss is 1.71, success rate 0.4375\n",
      "Epoch 1 Cycle 13: loss is 2.04, success rate 0.5\n",
      "Epoch 1 Cycle 14: loss is 2.05, success rate 0.5\n",
      "Epoch 1 Cycle 15: loss is 1.91, success rate 0.875\n",
      "Epoch 1 Cycle 16: loss is 1.78, success rate 0.8125\n",
      "Epoch 1 Cycle 17: loss is 1.49, success rate 0.8125\n",
      "Epoch 1 Cycle 18: loss is 1.29, success rate 0.625\n",
      "Epoch 1 Cycle 19: loss is 1.66, success rate 0.6875\n",
      "Epoch 1 Cycle 20: loss is 1.84, success rate 0.625\n",
      "Epoch 1 Cycle 21: loss is 1.34, success rate 0.5625\n",
      "Epoch 1 Cycle 22: loss is 2.07, success rate 0.6875\n",
      "Epoch 1 Cycle 23: loss is 2.46, success rate 0.75\n",
      "Epoch 1 Cycle 24: loss is 2.31, success rate 0.625\n",
      "Epoch 1 Cycle 25: loss is 1.96, success rate 0.5625\n",
      "Epoch 1 Cycle 26: loss is 2.9, success rate 0.75\n",
      "Epoch 1 Cycle 27: loss is 2.75, success rate 0.625\n",
      "Epoch 1 Cycle 28: loss is 3.29, success rate 0.625\n",
      "Epoch 1 Cycle 29: loss is 2.23, success rate 0.625\n",
      "Epoch 1 Cycle 30: loss is 2.63, success rate 0.6875\n",
      "Epoch 1 Cycle 31: loss is 2.46, success rate 0.5\n",
      "Epoch 1 Cycle 32: loss is 2.86, success rate 0.6875\n",
      "Epoch 1 Cycle 33: loss is 1.77, success rate 0.75\n",
      "Epoch 1 Cycle 34: loss is 2.5, success rate 0.625\n",
      "Epoch 1 Cycle 35: loss is 2.91, success rate 0.75\n",
      "Epoch 1 Cycle 36: loss is 2.54, success rate   1\n",
      "Epoch 1 Cycle 37: loss is 3.53, success rate 0.5625\n",
      "Epoch 1 Cycle 38: loss is 2.79, success rate 0.75\n",
      "Epoch 1 Cycle 39: loss is 2.8, success rate 0.8125\n",
      "Epoch 1 Cycle 40: loss is 2.81, success rate 0.75\n",
      "Epoch 1 Cycle 41: loss is 2.82, success rate 0.75\n",
      "Epoch 1 Cycle 42: loss is 1.62, success rate 0.5625\n",
      "Epoch 1 Cycle 43: loss is 2.44, success rate 0.75\n",
      "Epoch 1 Cycle 44: loss is 3.71, success rate 0.875\n",
      "Epoch 1 Cycle 45: loss is 2.68, success rate 0.875\n",
      "Epoch 1 Cycle 46: loss is 2.27, success rate 0.875\n",
      "Epoch 1 Cycle 47: loss is 2.5, success rate 0.8125\n",
      "Epoch 1 Cycle 48: loss is 1.91, success rate 0.875\n",
      "Epoch 1 Cycle 49: loss is 3.58, success rate 0.8125\n",
      "Epoch 2 Cycle 0: loss is 3.4, success rate 0.875\n",
      "Epoch 2 Cycle 1: loss is 2.33, success rate 0.8125\n",
      "Epoch 2 Cycle 2: loss is 2.79, success rate 0.8125\n",
      "Epoch 2 Cycle 3: loss is 2.81, success rate 0.6875\n",
      "Epoch 2 Cycle 4: loss is 2.39, success rate 0.625\n",
      "Epoch 2 Cycle 5: loss is 4.37, success rate 0.625\n",
      "Epoch 2 Cycle 6: loss is 2.62, success rate 0.875\n",
      "Epoch 2 Cycle 7: loss is 2.41, success rate 0.75\n",
      "Epoch 2 Cycle 8: loss is 3.59, success rate 0.875\n",
      "Epoch 2 Cycle 9: loss is 4.04, success rate 0.625\n",
      "Epoch 2 Cycle 10: loss is 3.61, success rate 0.5625\n",
      "Epoch 2 Cycle 11: loss is 2.48, success rate 0.6875\n",
      "Epoch 2 Cycle 12: loss is 3.42, success rate 0.9375\n",
      "Epoch 2 Cycle 13: loss is 2.07, success rate 0.5625\n",
      "Epoch 2 Cycle 14: loss is 3.22, success rate 0.6875\n",
      "Epoch 2 Cycle 15: loss is 2.76, success rate 0.5\n",
      "Epoch 2 Cycle 16: loss is 3.73, success rate 0.8125\n",
      "Epoch 2 Cycle 17: loss is 3.49, success rate 0.9375\n",
      "Epoch 2 Cycle 18: loss is 3.04, success rate 0.875\n",
      "Epoch 2 Cycle 19: loss is 3.31, success rate 0.9375\n",
      "Epoch 2 Cycle 20: loss is 4.04, success rate 0.75\n",
      "Epoch 2 Cycle 21: loss is 3.34, success rate 0.9375\n",
      "Epoch 2 Cycle 22: loss is 2.65, success rate 0.8125\n",
      "Epoch 2 Cycle 23: loss is 1.9, success rate 0.75\n",
      "Epoch 2 Cycle 24: loss is 3.13, success rate 0.75\n",
      "Epoch 2 Cycle 25: loss is 3.86, success rate 0.8125\n",
      "Epoch 2 Cycle 26: loss is 3.14, success rate 0.9375\n",
      "Epoch 2 Cycle 27: loss is 2.68, success rate 0.8125\n",
      "Epoch 2 Cycle 28: loss is 3.18, success rate 0.625\n",
      "Epoch 2 Cycle 29: loss is 2.19, success rate 0.75\n",
      "Epoch 2 Cycle 30: loss is 2.23, success rate 0.75\n",
      "Epoch 2 Cycle 31: loss is 3.96, success rate 0.875\n",
      "Epoch 2 Cycle 32: loss is 4.02, success rate 0.75\n",
      "Epoch 2 Cycle 33: loss is 3.26, success rate 0.75\n",
      "Epoch 2 Cycle 34: loss is 3.53, success rate 0.9375\n",
      "Epoch 2 Cycle 35: loss is 4.32, success rate 0.875\n",
      "Epoch 2 Cycle 36: loss is 2.53, success rate 0.625\n",
      "Epoch 2 Cycle 37: loss is 3.85, success rate 0.8125\n",
      "Epoch 2 Cycle 38: loss is 3.85, success rate 0.8125\n",
      "Epoch 2 Cycle 39: loss is 4.11, success rate 0.75\n",
      "Epoch 2 Cycle 40: loss is 3.62, success rate 0.875\n",
      "Epoch 2 Cycle 41: loss is 4.15, success rate 0.75\n",
      "Epoch 2 Cycle 42: loss is 3.9, success rate 0.9375\n",
      "Epoch 2 Cycle 43: loss is 2.87, success rate 0.875\n",
      "Epoch 2 Cycle 44: loss is 4.99, success rate 0.8125\n",
      "Epoch 2 Cycle 45: loss is 3.41, success rate 0.9375\n",
      "Epoch 2 Cycle 46: loss is 2.91, success rate 0.75\n",
      "Epoch 2 Cycle 47: loss is 3.67, success rate 0.625\n",
      "Epoch 2 Cycle 48: loss is 3.96, success rate 0.9375\n",
      "Epoch 2 Cycle 49: loss is 4.5, success rate   1\n",
      "Epoch 3 Cycle 0: loss is 3.44, success rate 0.875\n",
      "Epoch 3 Cycle 1: loss is 4.54, success rate 0.75\n",
      "Epoch 3 Cycle 2: loss is 4.82, success rate 0.8125\n",
      "Epoch 3 Cycle 3: loss is 4.31, success rate 0.8125\n",
      "Epoch 3 Cycle 4: loss is 3.49, success rate 0.75\n",
      "Epoch 3 Cycle 5: loss is 4.35, success rate 0.875\n",
      "Epoch 3 Cycle 6: loss is 3.8, success rate   1\n",
      "Epoch 3 Cycle 7: loss is 5.25, success rate 0.875\n",
      "Epoch 3 Cycle 8: loss is 4.39, success rate 0.5625\n",
      "Epoch 3 Cycle 9: loss is 3.28, success rate 0.75\n",
      "Epoch 3 Cycle 10: loss is 5.32, success rate 0.6875\n"
     ]
    },
    {
     "name": "stdout",
     "output_type": "stream",
     "text": [
      "Epoch 3 Cycle 11: loss is 3.32, success rate 0.9375\n",
      "Epoch 3 Cycle 12: loss is 5.02, success rate 0.8125\n",
      "Epoch 3 Cycle 13: loss is 4.47, success rate 0.6875\n",
      "Epoch 3 Cycle 14: loss is 2.5, success rate 0.5625\n",
      "Epoch 3 Cycle 15: loss is 3.92, success rate 0.75\n",
      "Epoch 3 Cycle 16: loss is 4.51, success rate 0.8125\n",
      "Epoch 3 Cycle 17: loss is 4.53, success rate 0.75\n",
      "Epoch 3 Cycle 18: loss is 3.67, success rate 0.8125\n",
      "Epoch 3 Cycle 19: loss is 2.23, success rate 0.75\n",
      "Epoch 3 Cycle 20: loss is 3.16, success rate 0.8125\n",
      "Epoch 3 Cycle 21: loss is 4.85, success rate 0.75\n",
      "Epoch 3 Cycle 22: loss is 4.56, success rate 0.6875\n",
      "Epoch 3 Cycle 23: loss is 3.41, success rate 0.9375\n",
      "Epoch 3 Cycle 24: loss is 3.42, success rate 0.8125\n",
      "Epoch 3 Cycle 25: loss is 3.74, success rate 0.8125\n",
      "Epoch 3 Cycle 26: loss is 2.27, success rate 0.9375\n",
      "Epoch 3 Cycle 27: loss is 4.36, success rate 0.5625\n",
      "Epoch 3 Cycle 28: loss is 4.06, success rate 0.8125\n",
      "Epoch 3 Cycle 29: loss is 3.46, success rate 0.8125\n",
      "Epoch 3 Cycle 30: loss is 3.48, success rate   1\n",
      "Epoch 3 Cycle 31: loss is 3.18, success rate 0.875\n",
      "Epoch 3 Cycle 32: loss is 3.5, success rate 0.8125\n",
      "Epoch 3 Cycle 33: loss is 3.51, success rate 0.9375\n",
      "Epoch 3 Cycle 34: loss is 2.63, success rate 0.8125\n",
      "Epoch 3 Cycle 35: loss is 4.15, success rate 0.5625\n",
      "Epoch 3 Cycle 36: loss is 5.97, success rate 0.75\n",
      "Epoch 3 Cycle 37: loss is 4.47, success rate 0.875\n",
      "Epoch 3 Cycle 38: loss is 3.56, success rate 0.9375\n",
      "Epoch 3 Cycle 39: loss is 4.19, success rate 0.875\n",
      "Epoch 3 Cycle 40: loss is 4.22, success rate 0.9375\n",
      "Epoch 3 Cycle 41: loss is 4.84, success rate 0.875\n",
      "Epoch 3 Cycle 42: loss is 3.61, success rate 0.8125\n",
      "Epoch 3 Cycle 43: loss is 3.02, success rate 0.875\n",
      "Epoch 3 Cycle 44: loss is 3.63, success rate 0.9375\n",
      "Epoch 3 Cycle 45: loss is 5.21, success rate 0.8125\n",
      "Epoch 3 Cycle 46: loss is 3.34, success rate 0.75\n",
      "Epoch 3 Cycle 47: loss is 5.25, success rate 0.75\n",
      "Epoch 3 Cycle 48: loss is 5.23, success rate 0.8125\n",
      "Epoch 3 Cycle 49: loss is 4.31, success rate 0.75\n",
      "Epoch 4 Cycle 0: loss is 4, success rate 0.75\n",
      "Epoch 4 Cycle 1: loss is 4.66, success rate 0.5625\n",
      "Epoch 4 Cycle 2: loss is 4.03, success rate 0.875\n",
      "Epoch 4 Cycle 3: loss is 4.05, success rate 0.6875\n",
      "Epoch 4 Cycle 4: loss is 3.42, success rate 0.6875\n",
      "Epoch 4 Cycle 5: loss is 5.36, success rate   1\n",
      "Epoch 4 Cycle 6: loss is 2.77, success rate   1\n",
      "Epoch 4 Cycle 7: loss is 3.75, success rate 0.9375\n",
      "Epoch 4 Cycle 8: loss is 4.75, success rate 0.875\n",
      "Epoch 4 Cycle 9: loss is 3.46, success rate 0.8125\n",
      "Epoch 4 Cycle 10: loss is 4.44, success rate 0.9375\n",
      "Epoch 4 Cycle 11: loss is 4.13, success rate 0.8125\n",
      "Epoch 4 Cycle 12: loss is 5.75, success rate   1\n",
      "Epoch 4 Cycle 13: loss is 3.8, success rate 0.875\n",
      "Epoch 4 Cycle 14: loss is 6.78, success rate 0.9375\n",
      "Epoch 4 Cycle 15: loss is 3.51, success rate 0.875\n",
      "Epoch 4 Cycle 16: loss is 5.46, success rate 0.875\n",
      "Epoch 4 Cycle 17: loss is 3.84, success rate   1\n",
      "Epoch 4 Cycle 18: loss is 5.16, success rate 0.875\n",
      "Epoch 4 Cycle 19: loss is 5.18, success rate 0.875\n",
      "Epoch 4 Cycle 20: loss is 3.88, success rate 0.875\n",
      "Epoch 4 Cycle 21: loss is 5.16, success rate 0.75\n",
      "Epoch 4 Cycle 22: loss is 4.53, success rate   1\n",
      "Epoch 4 Cycle 23: loss is 3.86, success rate 0.6875\n",
      "Epoch 4 Cycle 24: loss is 4.22, success rate 0.9375\n",
      "Epoch 4 Cycle 25: loss is 4.57, success rate 0.8125\n",
      "Epoch 4 Cycle 26: loss is 3.9, success rate 0.8125\n",
      "Epoch 4 Cycle 27: loss is 2.87, success rate 0.6875\n",
      "Epoch 4 Cycle 28: loss is 4.9, success rate   1\n",
      "Epoch 4 Cycle 29: loss is 3.55, success rate 0.75\n",
      "Epoch 4 Cycle 30: loss is 4.92, success rate 0.875\n",
      "Epoch 4 Cycle 31: loss is 4.59, success rate 0.875\n",
      "Epoch 4 Cycle 32: loss is 4.94, success rate 0.875\n",
      "Epoch 4 Cycle 33: loss is 3.92, success rate 0.9375\n",
      "Epoch 4 Cycle 34: loss is 4.96, success rate 0.8125\n",
      "Epoch 4 Cycle 35: loss is 6.29, success rate 0.875\n",
      "Epoch 4 Cycle 36: loss is 5.64, success rate 0.75\n",
      "Epoch 4 Cycle 37: loss is 4.29, success rate 0.9375\n",
      "Epoch 4 Cycle 38: loss is 3.95, success rate 0.9375\n",
      "Epoch 4 Cycle 39: loss is 4.98, success rate   1\n",
      "Epoch 4 Cycle 40: loss is 4.65, success rate   1\n",
      "Epoch 4 Cycle 41: loss is 3.31, success rate 0.875\n",
      "Epoch 4 Cycle 42: loss is 5.34, success rate 0.875\n",
      "Epoch 4 Cycle 43: loss is 4.33, success rate   1\n",
      "Epoch 4 Cycle 44: loss is 3.34, success rate 0.9375\n",
      "Epoch 4 Cycle 45: loss is 5, success rate 0.875\n",
      "Epoch 4 Cycle 46: loss is 3.99, success rate   1\n",
      "Epoch 4 Cycle 47: loss is 4.67, success rate 0.9375\n",
      "Epoch 4 Cycle 48: loss is 4.34, success rate 0.875\n",
      "Epoch 4 Cycle 49: loss is 4.67, success rate 0.9375\n"
     ]
    }
   ],
   "source": [
    "losses, success_all = agent.train_Q(x, y, epoch=5, cycles=50, episode=16, iteration=50)"
   ]
  },
  {
   "cell_type": "code",
   "execution_count": 5,
   "metadata": {},
   "outputs": [
    {
     "data": {
      "image/png": "[encoded data removed]",
      "text/plain": [
       "<Figure size 432x288 with 1 Axes>"
      ]
     },
     "metadata": {},
     "output_type": "display_data"
    }
   ],
   "source": [
    "plt.figure()\n",
    "plt.plot(losses)\n",
    "plt.show()"
   ]
  },
  {
   "cell_type": "markdown",
   "metadata": {},
   "source": [
    "## Test DQN"
   ]
  },
  {
   "cell_type": "code",
   "execution_count": 15,
   "metadata": {},
   "outputs": [
    {
     "name": "stdout",
     "output_type": "stream",
     "text": [
      "INFO:tensorflow:Restoring parameters from ./best_model/model.ckpt\n",
      "Success! state:[1 1 0 0]\t Goal state:[1 1 0 0]\n",
      "Success! state:[0 0 1 1]\t Goal state:[0 0 1 1]\n",
      "Success! state:[0 0 0 0]\t Goal state:[0 0 0 0]\n",
      "Success! state:[1 1 0 1]\t Goal state:[1 1 0 1]\n",
      "Success! state:[1 0 1 0]\t Goal state:[1 0 1 0]\n",
      "Success! state:[1 0 1 0]\t Goal state:[1 0 1 0]\n",
      "Fail! state:[1 1 1 0]\t Goal state:[1 0 0 1]\n",
      "Fail! state:[1 0 1 1]\t Goal state:[1 1 1 0]\n",
      "Fail! state:[1 0 1 1]\t Goal state:[1 1 1 0]\n",
      "Success! state:[1 0 0 0]\t Goal state:[1 0 0 0]\n",
      "Success! state:[1 0 1 0]\t Goal state:[1 0 1 0]\n",
      "Success! state:[0 1 1 1]\t Goal state:[0 1 1 1]\n",
      "Success! state:[0 0 1 0]\t Goal state:[0 0 1 0]\n",
      "Success! state:[0 1 0 0]\t Goal state:[0 1 0 0]\n",
      "Success! state:[1 1 0 1]\t Goal state:[1 1 0 1]\n",
      "Success! state:[0 0 0 1]\t Goal state:[0 0 0 1]\n",
      "Success! state:[1 0 1 1]\t Goal state:[1 0 1 1]\n",
      "Success! state:[0 1 1 0]\t Goal state:[0 1 1 0]\n",
      "Success! state:[0 1 0 0]\t Goal state:[0 1 0 0]\n",
      "Success! state:[1 0 1 1]\t Goal state:[1 0 1 1]\n",
      "Success! state:[0 1 1 0]\t Goal state:[0 1 1 0]\n",
      "Success! state:[1 0 1 1]\t Goal state:[1 0 1 1]\n",
      "Success! state:[1 1 0 0]\t Goal state:[1 1 0 0]\n",
      "Success! state:[0 1 1 1]\t Goal state:[0 1 1 1]\n",
      "Success! state:[1 1 1 1]\t Goal state:[1 1 1 1]\n",
      "Success! state:[0 0 1 0]\t Goal state:[0 0 1 0]\n",
      "Success! state:[0 0 1 1]\t Goal state:[0 0 1 1]\n",
      "Success! state:[0 0 1 0]\t Goal state:[0 0 1 0]\n",
      "Success! state:[1 1 1 1]\t Goal state:[1 1 1 1]\n",
      "Success! state:[0 0 0 0]\t Goal state:[0 0 0 0]\n",
      "Success! state:[1 0 1 0]\t Goal state:[1 0 1 0]\n",
      "Success! state:[0 0 1 1]\t Goal state:[0 0 1 1]\n",
      "Success! state:[1 0 0 1]\t Goal state:[1 0 0 1]\n",
      "Success! state:[0 0 0 0]\t Goal state:[0 0 0 0]\n",
      "Success! state:[0 1 0 1]\t Goal state:[0 1 0 1]\n",
      "Success! state:[1 0 0 1]\t Goal state:[1 0 0 1]\n",
      "Success! state:[1 0 0 0]\t Goal state:[1 0 0 0]\n",
      "Success! state:[1 0 0 0]\t Goal state:[1 0 0 0]\n",
      "Success! state:[1 1 0 1]\t Goal state:[1 1 0 1]\n",
      "Success! state:[0 0 1 1]\t Goal state:[0 0 1 1]\n",
      "Success! state:[1 0 0 0]\t Goal state:[1 0 0 0]\n",
      "Success! state:[1 0 1 1]\t Goal state:[1 0 1 1]\n",
      "Success! state:[0 0 0 1]\t Goal state:[0 0 0 1]\n",
      "Success! state:[1 1 0 1]\t Goal state:[1 1 0 1]\n",
      "Success! state:[1 0 1 0]\t Goal state:[1 0 1 0]\n",
      "Success! state:[1 0 1 0]\t Goal state:[1 0 1 0]\n",
      "Success! state:[0 0 1 0]\t Goal state:[0 0 1 0]\n",
      "Success! state:[1 1 0 0]\t Goal state:[1 1 0 0]\n",
      "Success! state:[0 1 1 1]\t Goal state:[0 1 1 1]\n",
      "Success! state:[1 1 0 0]\t Goal state:[1 1 0 0]\n",
      "Success! state:[1 0 0 1]\t Goal state:[1 0 0 1]\n",
      "Fail! state:[1 0 1 0]\t Goal state:[1 1 1 0]\n",
      "Success! state:[1 0 0 0]\t Goal state:[1 0 0 0]\n",
      "Success! state:[0 1 1 1]\t Goal state:[0 1 1 1]\n",
      "Success! state:[0 1 1 0]\t Goal state:[0 1 1 0]\n",
      "Success! state:[1 0 0 0]\t Goal state:[1 0 0 0]\n",
      "Success! state:[1 1 1 1]\t Goal state:[1 1 1 1]\n",
      "Success! state:[1 0 1 0]\t Goal state:[1 0 1 0]\n",
      "Success! state:[1 0 0 1]\t Goal state:[1 0 0 1]\n",
      "Success! state:[1 0 0 1]\t Goal state:[1 0 0 1]\n",
      "Success! state:[1 1 0 1]\t Goal state:[1 1 0 1]\n",
      "Success! state:[0 0 1 1]\t Goal state:[0 0 1 1]\n",
      "Success! state:[1 0 1 1]\t Goal state:[1 0 1 1]\n",
      "Success! state:[1 0 0 1]\t Goal state:[1 0 0 1]\n",
      "Success! state:[0 1 1 1]\t Goal state:[0 1 1 1]\n",
      "Success! state:[1 0 0 0]\t Goal state:[1 0 0 0]\n",
      "Success! state:[1 0 1 0]\t Goal state:[1 0 1 0]\n",
      "Success! state:[0 1 1 1]\t Goal state:[0 1 1 1]\n",
      "Success! state:[0 1 0 1]\t Goal state:[0 1 0 1]\n",
      "Success! state:[1 1 0 0]\t Goal state:[1 1 0 0]\n",
      "Success! state:[1 0 1 1]\t Goal state:[1 0 1 1]\n",
      "Success! state:[1 1 1 1]\t Goal state:[1 1 1 1]\n",
      "Success! state:[0 0 1 0]\t Goal state:[0 0 1 0]\n",
      "Success! state:[0 0 0 0]\t Goal state:[0 0 0 0]\n",
      "Success! state:[1 0 1 1]\t Goal state:[1 0 1 1]\n",
      "Success! state:[1 0 1 0]\t Goal state:[1 0 1 0]\n",
      "Success! state:[0 1 0 1]\t Goal state:[0 1 0 1]\n",
      "Success! state:[0 1 0 1]\t Goal state:[0 1 0 1]\n",
      "Success! state:[1 0 0 0]\t Goal state:[1 0 0 0]\n",
      "Success! state:[0 0 1 1]\t Goal state:[0 0 1 1]\n",
      "Success! state:[0 0 1 0]\t Goal state:[0 0 1 0]\n",
      "Success! state:[1 0 0 0]\t Goal state:[1 0 0 0]\n",
      "Success! state:[0 0 1 0]\t Goal state:[0 0 1 0]\n",
      "Success! state:[1 0 0 0]\t Goal state:[1 0 0 0]\n",
      "Success! state:[0 0 1 0]\t Goal state:[0 0 1 0]\n",
      "Fail! state:[1 0 1 1]\t Goal state:[1 1 1 0]\n",
      "Success! state:[0 0 0 1]\t Goal state:[0 0 0 1]\n",
      "Success! state:[0 1 1 1]\t Goal state:[0 1 1 1]\n",
      "Success! state:[1 1 0 1]\t Goal state:[1 1 0 1]\n",
      "Success! state:[0 0 0 0]\t Goal state:[0 0 0 0]\n",
      "Success! state:[0 0 1 1]\t Goal state:[0 0 1 1]\n",
      "Success! state:[0 1 1 1]\t Goal state:[0 1 1 1]\n",
      "Success! state:[0 1 1 0]\t Goal state:[0 1 1 0]\n",
      "Success! state:[0 1 0 0]\t Goal state:[0 1 0 0]\n",
      "Success! state:[1 0 0 1]\t Goal state:[1 0 0 1]\n",
      "Success! state:[0 0 0 1]\t Goal state:[0 0 0 1]\n",
      "Success! state:[0 0 1 0]\t Goal state:[0 0 1 0]\n",
      "Success! state:[0 0 0 0]\t Goal state:[0 0 0 0]\n",
      "Success! state:[0 0 0 1]\t Goal state:[0 0 0 1]\n",
      "Success! state:[0 0 0 0]\t Goal state:[0 0 0 0]\n",
      "Success rate 95%\n"
     ]
    }
   ],
   "source": [
    "with tf.Session() as sess:\n",
    "    saver = tf.train.Saver()\n",
    "    saver.restore(sess, './best_model/model.ckpt')\n",
    "    \n",
    "    success = 0\n",
    "    for i in range(100):\n",
    "        \n",
    "        bf_env.reset()\n",
    "\n",
    "        for i in range(n):\n",
    "            X = np.concatenate((bf_env.state.reshape((1,-1)),bf_env.goal.reshape((1,-1))), axis=1)\n",
    "            Q = sess.run(agent.targetModel, feed_dict={x: X})\n",
    "            action = np.argmax(Q)\n",
    "            bf_env.update_state(action)\n",
    "            if (bf_env.reward(bf_env.state)==0):\n",
    "                print('Success! state:{0}\\t Goal state:{1}'.format(bf_env.state, bf_env.goal))\n",
    "                success += 1\n",
    "                break\n",
    "            elif (i==n-1):\n",
    "                print('Fail! state:{0}\\t Goal state:{1}'.format(bf_env.state, bf_env.goal))\n",
    "                \n",
    "    print('Success rate {}%'.format(success))"
   ]
  },
  {
   "cell_type": "code",
   "execution_count": 7,
   "metadata": {},
   "outputs": [],
   "source": [
    "a=np.array([[1,2,3,2,1,3]])"
   ]
  },
  {
   "cell_type": "code",
   "execution_count": 8,
   "metadata": {},
   "outputs": [],
   "source": [
    "a=np.array([3,1,2])"
   ]
  },
  {
   "cell_type": "code",
   "execution_count": 9,
   "metadata": {},
   "outputs": [],
   "source": [
    "a[a<0] += 2"
   ]
  },
  {
   "cell_type": "code",
   "execution_count": 10,
   "metadata": {},
   "outputs": [
    {
     "data": {
      "text/plain": [
       "array([3, 1, 2])"
      ]
     },
     "execution_count": 10,
     "metadata": {},
     "output_type": "execute_result"
    }
   ],
   "source": [
    "a"
   ]
  },
  {
   "cell_type": "code",
   "execution_count": null,
   "metadata": {},
   "outputs": [],
   "source": []
  },
  {
   "cell_type": "code",
   "execution_count": 11,
   "metadata": {},
   "outputs": [
    {
     "data": {
      "text/plain": [
       "False"
      ]
     },
     "execution_count": 11,
     "metadata": {},
     "output_type": "execute_result"
    }
   ],
   "source": [
    "(a==None).all()"
   ]
  },
  {
   "cell_type": "code",
   "execution_count": 12,
   "metadata": {},
   "outputs": [],
   "source": [
    "s=np.argmax(a)"
   ]
  },
  {
   "cell_type": "code",
   "execution_count": null,
   "metadata": {},
   "outputs": [],
   "source": []
  },
  {
   "cell_type": "code",
   "execution_count": null,
   "metadata": {},
   "outputs": [],
   "source": []
  }
 ],
 "metadata": {
  "kernelspec": {
   "display_name": "Python 3",
   "language": "python",
   "name": "python3"
  },
  "language_info": {
   "codemirror_mode": {
    "name": "ipython",
    "version": 3
   },
   "file_extension": ".py",
   "mimetype": "text/x-python",
   "name": "python",
   "nbconvert_exporter": "python",
   "pygments_lexer": "ipython3",
   "version": "3.6.5"
  }
 },
 "nbformat": 4,
 "nbformat_minor": 2
}
