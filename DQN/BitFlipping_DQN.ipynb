{
 "cells": [
  {
   "cell_type": "markdown",
   "metadata": {},
   "source": [
    "# Bit flipping game with DQN solver\n",
    "\n",
    "This is the implementation of the DQN solver for the bit flipping game in [**Hindsight Experience Replay**](https://arxiv.org/abs/1707.01495).\n",
    "\n",
    "**Rerefence**:\n",
    "\n",
    "1. Marcin Andrychowicz, Filip Wolski, Alex Ray, Jonas Schneider, Rachel Fong, Peter Welinder, Bob McGrew, Josh Tobin, Pieter Abbeel, Wojciech Zaremba, Hindsight Experience Replay\n"
   ]
  },
  {
   "cell_type": "code",
   "execution_count": 1,
   "metadata": {
    "slideshow": {
     "slide_type": "-"
    }
   },
   "outputs": [],
   "source": [
    "from __future__ import absolute_import\n",
    "from __future__ import division\n",
    "from __future__ import print_function\n",
    "\n",
    "import tensorflow as tf\n",
    "import numpy as np\n",
    "import matplotlib.pyplot as plt\n",
    "from bitflipping import bitflipping as bf\n",
    "from DQN import DQN\n",
    "\n",
    "plt.rcParams['figure.figsize'] = [15, 20]\n",
    "%matplotlib inline\n",
    "\n"
   ]
  },
  {
   "cell_type": "markdown",
   "metadata": {},
   "source": [
    "## Set up the bit flipping game environment"
   ]
  },
  {
   "cell_type": "code",
   "execution_count": 2,
   "metadata": {},
   "outputs": [],
   "source": [
    "init_state = np.array([0,1])\n",
    "goal = np.ones((2,))\n",
    "n = 3\n",
    "bf_env = bf(init_state, goal, n)"
   ]
  },
  {
   "cell_type": "markdown",
   "metadata": {},
   "source": [
    "## Build up the DQN neural network"
   ]
  },
  {
   "cell_type": "code",
   "execution_count": 3,
   "metadata": {},
   "outputs": [],
   "source": [
    "tf.reset_default_graph()\n",
    "\n",
    "x = tf.placeholder(tf.float32, shape=(None, 2*n))\n",
    "y = tf.placeholder(tf.float32, shape=(None, 1))\n",
    "\n",
    "\n",
    "hid = [256]\n",
    "agent = DQN(x, hid, n, discount=0.98, eps=0.5, annealing=0.8, tau = 0.95, replay_buffer_size=1e6, batch_size=32)"
   ]
  },
  {
   "cell_type": "code",
   "execution_count": 4,
   "metadata": {
    "scrolled": true
   },
   "outputs": [
    {
     "name": "stdout",
     "output_type": "stream",
     "text": [
      "Epoch 0 Cycle 0 Episode 15: loss is 0.0469\n",
      "Epoch 0 Cycle 1 Episode 15: loss is 0.0453\n",
      "Epoch 0 Cycle 2 Episode 15: loss is 0.0708\n",
      "Epoch 0 Cycle 3 Episode 15: loss is 0.0564\n",
      "Epoch 0 Cycle 4 Episode 15: loss is 0.0689\n",
      "Epoch 0 Cycle 5 Episode 15: loss is 0.0609\n",
      "Epoch 0 Cycle 6 Episode 15: loss is 0.0746\n",
      "Epoch 0 Cycle 7 Episode 15: loss is 0.0602\n",
      "Epoch 0 Cycle 8 Episode 15: loss is 0.0691\n",
      "Epoch 0 Cycle 9 Episode 15: loss is 0.0947\n",
      "Epoch 0 Cycle 10 Episode 15: loss is 0.0872\n",
      "Epoch 0 Cycle 11 Episode 15: loss is 0.0921\n",
      "Epoch 0 Cycle 12 Episode 15: loss is 0.0914\n",
      "Epoch 0 Cycle 13 Episode 15: loss is 0.106\n",
      "Epoch 0 Cycle 14 Episode 15: loss is 0.124\n",
      "Epoch 0 Cycle 15 Episode 15: loss is 0.0822\n",
      "Epoch 0 Cycle 16 Episode 15: loss is 0.123\n",
      "Epoch 0 Cycle 17 Episode 15: loss is 0.103\n",
      "Epoch 0 Cycle 18 Episode 15: loss is 0.115\n",
      "Epoch 0 Cycle 19 Episode 15: loss is 0.0985\n",
      "Epoch 0 Cycle 20 Episode 15: loss is 0.0947\n",
      "Epoch 0 Cycle 21 Episode 15: loss is 0.116\n",
      "Epoch 0 Cycle 22 Episode 15: loss is 0.106\n",
      "Epoch 0 Cycle 23 Episode 15: loss is 0.087\n",
      "Epoch 0 Cycle 24 Episode 15: loss is 0.129\n",
      "Epoch 1 Cycle 0 Episode 15: loss is 0.163\n",
      "Epoch 1 Cycle 1 Episode 15: loss is 0.145\n",
      "Epoch 1 Cycle 2 Episode 15: loss is 0.121\n",
      "Epoch 1 Cycle 3 Episode 15: loss is 0.169\n",
      "Epoch 1 Cycle 4 Episode 15: loss is 0.196\n",
      "Epoch 1 Cycle 5 Episode 15: loss is 0.158\n",
      "Epoch 1 Cycle 6 Episode 15: loss is 0.196\n",
      "Epoch 1 Cycle 7 Episode 15: loss is 0.181\n",
      "Epoch 1 Cycle 8 Episode 15: loss is 0.156\n",
      "Epoch 1 Cycle 9 Episode 15: loss is 0.154\n",
      "Epoch 1 Cycle 10 Episode 15: loss is 0.195\n",
      "Epoch 1 Cycle 11 Episode 15: loss is 0.22\n",
      "Epoch 1 Cycle 12 Episode 15: loss is 0.235\n",
      "Epoch 1 Cycle 13 Episode 15: loss is 0.224\n",
      "Epoch 1 Cycle 14 Episode 15: loss is 0.13\n",
      "Epoch 1 Cycle 15 Episode 15: loss is 0.182\n",
      "Epoch 1 Cycle 16 Episode 15: loss is 0.313\n",
      "Epoch 1 Cycle 17 Episode 15: loss is 0.193\n",
      "Epoch 1 Cycle 18 Episode 15: loss is 0.237\n",
      "Epoch 1 Cycle 19 Episode 15: loss is 0.254\n",
      "Epoch 1 Cycle 20 Episode 15: loss is 0.295\n",
      "Epoch 1 Cycle 21 Episode 15: loss is 0.27\n",
      "Epoch 1 Cycle 22 Episode 15: loss is 0.412\n",
      "Epoch 1 Cycle 23 Episode 15: loss is 0.232\n",
      "Epoch 1 Cycle 24 Episode 15: loss is 0.293\n",
      "Epoch 2 Cycle 0 Episode 15: loss is 0.331\n",
      "Epoch 2 Cycle 1 Episode 15: loss is 0.524\n",
      "Epoch 2 Cycle 2 Episode 15: loss is 0.4\n",
      "Epoch 2 Cycle 3 Episode 15: loss is 0.42\n",
      "Epoch 2 Cycle 4 Episode 15: loss is 0.409\n",
      "Epoch 2 Cycle 5 Episode 15: loss is 0.377\n",
      "Epoch 2 Cycle 6 Episode 15: loss is 0.337\n",
      "Epoch 2 Cycle 7 Episode 15: loss is 0.383\n",
      "Epoch 2 Cycle 8 Episode 15: loss is 0.34\n",
      "Epoch 2 Cycle 9 Episode 15: loss is 0.461\n",
      "Epoch 2 Cycle 10 Episode 15: loss is 0.404\n",
      "Epoch 2 Cycle 11 Episode 15: loss is 0.386\n",
      "Epoch 2 Cycle 12 Episode 15: loss is 0.591\n",
      "Epoch 2 Cycle 13 Episode 15: loss is 0.538\n",
      "Epoch 2 Cycle 14 Episode 15: loss is 0.489\n",
      "Epoch 2 Cycle 15 Episode 15: loss is 0.431\n",
      "Epoch 2 Cycle 16 Episode 15: loss is 0.512\n",
      "Epoch 2 Cycle 17 Episode 15: loss is 0.414\n",
      "Epoch 2 Cycle 18 Episode 15: loss is 0.421\n",
      "Epoch 2 Cycle 19 Episode 15: loss is 0.434\n",
      "Epoch 2 Cycle 20 Episode 15: loss is 0.463\n",
      "Epoch 2 Cycle 21 Episode 15: loss is 0.689\n",
      "Epoch 2 Cycle 22 Episode 15: loss is 0.536\n",
      "Epoch 2 Cycle 23 Episode 15: loss is 0.689\n",
      "Epoch 2 Cycle 24 Episode 15: loss is 0.574\n",
      "Epoch 3 Cycle 0 Episode 15: loss is 0.52\n",
      "Epoch 3 Cycle 1 Episode 15: loss is 0.595\n",
      "Epoch 3 Cycle 2 Episode 15: loss is 0.648\n",
      "Epoch 3 Cycle 3 Episode 15: loss is 0.603\n",
      "Epoch 3 Cycle 4 Episode 15: loss is 0.582\n",
      "Epoch 3 Cycle 5 Episode 15: loss is 0.818\n",
      "Epoch 3 Cycle 6 Episode 15: loss is 0.558\n",
      "Epoch 3 Cycle 7 Episode 15: loss is 0.607\n",
      "Epoch 3 Cycle 8 Episode 15: loss is 0.803\n",
      "Epoch 3 Cycle 9 Episode 15: loss is 0.726\n",
      "Epoch 3 Cycle 10 Episode 15: loss is 0.739\n",
      "Epoch 3 Cycle 11 Episode 15: loss is 0.721\n",
      "Epoch 3 Cycle 12 Episode 15: loss is 0.709\n",
      "Epoch 3 Cycle 13 Episode 15: loss is 0.893\n",
      "Epoch 3 Cycle 14 Episode 15: loss is 0.596\n",
      "Epoch 3 Cycle 15 Episode 15: loss is 0.53\n",
      "Epoch 3 Cycle 16 Episode 15: loss is 0.877\n",
      "Epoch 3 Cycle 17 Episode 15: loss is 1.64\n",
      "Epoch 3 Cycle 18 Episode 15: loss is 0.705\n",
      "Epoch 3 Cycle 19 Episode 15: loss is 0.853\n",
      "Epoch 3 Cycle 20 Episode 15: loss is 0.721\n",
      "Epoch 3 Cycle 21 Episode 15: loss is 0.932\n",
      "Epoch 3 Cycle 22 Episode 15: loss is 0.938\n",
      "Epoch 3 Cycle 23 Episode 15: loss is 0.822\n",
      "Epoch 3 Cycle 24 Episode 15: loss is 0.952\n",
      "Epoch 4 Cycle 0 Episode 15: loss is 1.05\n",
      "Epoch 4 Cycle 1 Episode 15: loss is 1\n",
      "Epoch 4 Cycle 2 Episode 15: loss is 1.08\n",
      "Epoch 4 Cycle 3 Episode 15: loss is 1.24\n",
      "Epoch 4 Cycle 4 Episode 15: loss is 0.859\n",
      "Epoch 4 Cycle 5 Episode 15: loss is 0.911\n",
      "Epoch 4 Cycle 6 Episode 15: loss is 1.19\n",
      "Epoch 4 Cycle 7 Episode 15: loss is 1.09\n",
      "Epoch 4 Cycle 8 Episode 15: loss is 0.876\n",
      "Epoch 4 Cycle 9 Episode 15: loss is 1.13\n",
      "Epoch 4 Cycle 10 Episode 15: loss is 1.2\n",
      "Epoch 4 Cycle 11 Episode 15: loss is 0.973\n",
      "Epoch 4 Cycle 12 Episode 15: loss is 1.12\n",
      "Epoch 4 Cycle 13 Episode 15: loss is 1.38\n",
      "Epoch 4 Cycle 14 Episode 15: loss is 1.2\n",
      "Epoch 4 Cycle 15 Episode 15: loss is 1.22\n",
      "Epoch 4 Cycle 16 Episode 15: loss is 0.984\n",
      "Epoch 4 Cycle 17 Episode 15: loss is 0.955\n",
      "Epoch 4 Cycle 18 Episode 15: loss is 1.79\n",
      "Epoch 4 Cycle 19 Episode 15: loss is 1.24\n",
      "Epoch 4 Cycle 20 Episode 15: loss is 1.34\n",
      "Epoch 4 Cycle 21 Episode 15: loss is 0.751\n",
      "Epoch 4 Cycle 22 Episode 15: loss is 1.1\n",
      "Epoch 4 Cycle 23 Episode 15: loss is 1.65\n",
      "Epoch 4 Cycle 24 Episode 15: loss is 1.16\n",
      "Epoch 5 Cycle 0 Episode 15: loss is 1.14\n",
      "Epoch 5 Cycle 1 Episode 15: loss is 1.3\n",
      "Epoch 5 Cycle 2 Episode 15: loss is 1.1\n",
      "Epoch 5 Cycle 3 Episode 15: loss is 1.18\n",
      "Epoch 5 Cycle 4 Episode 15: loss is 1.4\n",
      "Epoch 5 Cycle 5 Episode 15: loss is 0.832\n",
      "Epoch 5 Cycle 6 Episode 15: loss is 1.09\n",
      "Epoch 5 Cycle 7 Episode 15: loss is 1.11\n",
      "Epoch 5 Cycle 8 Episode 15: loss is 1.16\n",
      "Epoch 5 Cycle 9 Episode 15: loss is 1.81\n",
      "Epoch 5 Cycle 10 Episode 15: loss is 1.08\n",
      "Epoch 5 Cycle 11 Episode 15: loss is 2.26\n",
      "Epoch 5 Cycle 12 Episode 15: loss is 1.65\n",
      "Epoch 5 Cycle 13 Episode 15: loss is 1.56\n",
      "Epoch 5 Cycle 14 Episode 15: loss is 1.77\n",
      "Epoch 5 Cycle 15 Episode 15: loss is 0.991\n",
      "Epoch 5 Cycle 16 Episode 15: loss is 1.72\n",
      "Epoch 5 Cycle 17 Episode 15: loss is 1.83\n",
      "Epoch 5 Cycle 18 Episode 15: loss is 1.78\n",
      "Epoch 5 Cycle 19 Episode 15: loss is 1.51\n",
      "Epoch 5 Cycle 20 Episode 15: loss is 1.67\n",
      "Epoch 5 Cycle 21 Episode 15: loss is 1.33\n",
      "Epoch 5 Cycle 22 Episode 15: loss is 1.46\n",
      "Epoch 5 Cycle 23 Episode 15: loss is 1.56\n",
      "Epoch 5 Cycle 24 Episode 15: loss is 1.55\n",
      "Epoch 6 Cycle 0 Episode 15: loss is 1.56\n",
      "Epoch 6 Cycle 1 Episode 15: loss is 1.18\n",
      "Epoch 6 Cycle 2 Episode 15: loss is 1.95\n",
      "Epoch 6 Cycle 3 Episode 15: loss is 1.51\n",
      "Epoch 6 Cycle 4 Episode 15: loss is 1.25\n",
      "Epoch 6 Cycle 5 Episode 15: loss is 1.28\n",
      "Epoch 6 Cycle 6 Episode 15: loss is 1.2\n",
      "Epoch 6 Cycle 7 Episode 15: loss is 1.35\n",
      "Epoch 6 Cycle 8 Episode 15: loss is 1.62\n",
      "Epoch 6 Cycle 9 Episode 15: loss is 1.39\n",
      "Epoch 6 Cycle 10 Episode 15: loss is 1.42\n",
      "Epoch 6 Cycle 11 Episode 15: loss is 1.89\n",
      "Epoch 6 Cycle 12 Episode 15: loss is 1.79\n",
      "Epoch 6 Cycle 13 Episode 15: loss is 1.65\n",
      "Epoch 6 Cycle 14 Episode 15: loss is 2.5\n",
      "Epoch 6 Cycle 15 Episode 15: loss is 1.13\n",
      "Epoch 6 Cycle 16 Episode 15: loss is 1.9\n",
      "Epoch 6 Cycle 17 Episode 15: loss is 1.72\n",
      "Epoch 6 Cycle 18 Episode 15: loss is 1.41\n",
      "Epoch 6 Cycle 19 Episode 15: loss is 1.79\n",
      "Epoch 6 Cycle 20 Episode 15: loss is 1.33\n",
      "Epoch 6 Cycle 21 Episode 15: loss is 1.58\n",
      "Epoch 6 Cycle 22 Episode 15: loss is 1.79\n",
      "Epoch 6 Cycle 23 Episode 15: loss is 2.29\n",
      "Epoch 6 Cycle 24 Episode 15: loss is 1.67\n",
      "Epoch 7 Cycle 0 Episode 15: loss is 2.82\n",
      "Epoch 7 Cycle 1 Episode 15: loss is 1.6\n",
      "Epoch 7 Cycle 2 Episode 15: loss is 1.3\n",
      "Epoch 7 Cycle 3 Episode 15: loss is 1.55\n",
      "Epoch 7 Cycle 4 Episode 15: loss is 1.97\n",
      "Epoch 7 Cycle 5 Episode 15: loss is 2.34\n",
      "Epoch 7 Cycle 6 Episode 15: loss is 1.72\n",
      "Epoch 7 Cycle 7 Episode 15: loss is 2.44\n",
      "Epoch 7 Cycle 8 Episode 15: loss is 1.48\n",
      "Epoch 7 Cycle 9 Episode 15: loss is 2.27\n",
      "Epoch 7 Cycle 10 Episode 15: loss is 1.63\n",
      "Epoch 7 Cycle 11 Episode 15: loss is 2.09\n",
      "Epoch 7 Cycle 12 Episode 15: loss is 2.02\n",
      "Epoch 7 Cycle 13 Episode 15: loss is 2.02\n",
      "Epoch 7 Cycle 14 Episode 15: loss is 1.32\n",
      "Epoch 7 Cycle 15 Episode 15: loss is 2.21\n",
      "Epoch 7 Cycle 16 Episode 15: loss is 2.34\n",
      "Epoch 7 Cycle 17 Episode 15: loss is 1.63\n",
      "Epoch 7 Cycle 18 Episode 15: loss is 2.3\n",
      "Epoch 7 Cycle 19 Episode 15: loss is 2.88\n"
     ]
    },
    {
     "name": "stdout",
     "output_type": "stream",
     "text": [
      "Epoch 7 Cycle 20 Episode 15: loss is 1.38\n",
      "Epoch 7 Cycle 21 Episode 15: loss is 3.03\n",
      "Epoch 7 Cycle 22 Episode 15: loss is 3.31\n",
      "Epoch 7 Cycle 23 Episode 15: loss is 3.18\n",
      "Epoch 7 Cycle 24 Episode 15: loss is 2.56\n",
      "Epoch 8 Cycle 0 Episode 15: loss is 2.32\n",
      "Epoch 8 Cycle 1 Episode 15: loss is 2.77\n",
      "Epoch 8 Cycle 2 Episode 15: loss is 2.5\n",
      "Epoch 8 Cycle 3 Episode 15: loss is 1.65\n",
      "Epoch 8 Cycle 4 Episode 15: loss is 2.53\n",
      "Epoch 8 Cycle 5 Episode 15: loss is 2.8\n",
      "Epoch 8 Cycle 6 Episode 15: loss is 2.37\n",
      "Epoch 8 Cycle 7 Episode 15: loss is 1.65\n",
      "Epoch 8 Cycle 8 Episode 15: loss is 2.35\n",
      "Epoch 8 Cycle 9 Episode 15: loss is 2.36\n",
      "Epoch 8 Cycle 10 Episode 15: loss is 1.92\n",
      "Epoch 8 Cycle 11 Episode 15: loss is 2.61\n",
      "Epoch 8 Cycle 12 Episode 15: loss is 1.83\n",
      "Epoch 8 Cycle 13 Episode 15: loss is 2.49\n",
      "Epoch 8 Cycle 14 Episode 15: loss is 3.16\n",
      "Epoch 8 Cycle 15 Episode 15: loss is 2.06\n",
      "Epoch 8 Cycle 16 Episode 15: loss is 2.49\n",
      "Epoch 8 Cycle 17 Episode 15: loss is 2.11\n",
      "Epoch 8 Cycle 18 Episode 15: loss is 2.71\n",
      "Epoch 8 Cycle 19 Episode 15: loss is 2.95\n",
      "Epoch 8 Cycle 20 Episode 15: loss is 1.49\n",
      "Epoch 8 Cycle 21 Episode 15: loss is 1.88\n",
      "Epoch 8 Cycle 22 Episode 15: loss is 3\n",
      "Epoch 8 Cycle 23 Episode 15: loss is 2.92\n",
      "Epoch 8 Cycle 24 Episode 15: loss is 2.52\n",
      "Epoch 9 Cycle 0 Episode 15: loss is 2\n",
      "Epoch 9 Cycle 1 Episode 15: loss is 2\n",
      "Epoch 9 Cycle 2 Episode 15: loss is 1.79\n",
      "Epoch 9 Cycle 3 Episode 15: loss is 2.89\n",
      "Epoch 9 Cycle 4 Episode 15: loss is 1.32\n",
      "Epoch 9 Cycle 5 Episode 15: loss is 3.19\n",
      "Epoch 9 Cycle 6 Episode 15: loss is 2.75\n",
      "Epoch 9 Cycle 7 Episode 15: loss is 2.5\n",
      "Epoch 9 Cycle 8 Episode 15: loss is 2.08\n",
      "Epoch 9 Cycle 9 Episode 15: loss is 2.31\n",
      "Epoch 9 Cycle 10 Episode 15: loss is 3.31\n",
      "Epoch 9 Cycle 11 Episode 15: loss is 3.84\n",
      "Epoch 9 Cycle 12 Episode 15: loss is 2.51\n",
      "Epoch 9 Cycle 13 Episode 15: loss is 2.45\n",
      "Epoch 9 Cycle 14 Episode 15: loss is 3.27\n",
      "Epoch 9 Cycle 15 Episode 15: loss is 3.22\n",
      "Epoch 9 Cycle 16 Episode 15: loss is 2.61\n",
      "Epoch 9 Cycle 17 Episode 15: loss is 2.98\n",
      "Epoch 9 Cycle 18 Episode 15: loss is 1.83\n",
      "Epoch 9 Cycle 19 Episode 15: loss is 2.22\n",
      "Epoch 9 Cycle 20 Episode 15: loss is 2.62\n",
      "Epoch 9 Cycle 21 Episode 15: loss is 2.24\n",
      "Epoch 9 Cycle 22 Episode 15: loss is 1.34\n",
      "Epoch 9 Cycle 23 Episode 15: loss is 2.87\n",
      "Epoch 9 Cycle 24 Episode 15: loss is 2.48\n"
     ]
    }
   ],
   "source": [
    "losses, success_all = agent.train_Q(x, y, epoch=10, cycles = 25, episode=16, T=n, iteration=40)"
   ]
  },
  {
   "cell_type": "code",
   "execution_count": 5,
   "metadata": {},
   "outputs": [
    {
     "data": {
      "image/png": "[encoded data removed]",
      "text/plain": [
       "<Figure size 432x288 with 1 Axes>"
      ]
     },
     "metadata": {},
     "output_type": "display_data"
    },
    {
     "data": {
      "text/plain": [
       "<function matplotlib.pyplot.show(*args, **kw)>"
      ]
     },
     "execution_count": 5,
     "metadata": {},
     "output_type": "execute_result"
    },
    {
     "data": {
      "image/png": "[encoded data removed]",
      "text/plain": [
       "<Figure size 432x288 with 1 Axes>"
      ]
     },
     "metadata": {},
     "output_type": "display_data"
    }
   ],
   "source": [
    "plt.figure()\n",
    "plt.plot(losses)\n",
    "plt.show()\n",
    "plt.figure()\n",
    "plt.plot(success_all)\n",
    "plt.show"
   ]
  },
  {
   "cell_type": "markdown",
   "metadata": {},
   "source": [
    "## Test DQN"
   ]
  },
  {
   "cell_type": "code",
   "execution_count": 11,
   "metadata": {},
   "outputs": [
    {
     "name": "stdout",
     "output_type": "stream",
     "text": [
      "INFO:tensorflow:Restoring parameters from /tmp/model.ckpt\n",
      "Fail! Initial state:[0 1 1]\t Goal state:[0 0 0]\n",
      "Fail! Initial state:[1 1 1]\t Goal state:[0 0 1]\n",
      "Fail! Initial state:[0 1 1]\t Goal state:[0 0 0]\n",
      "Success! Initial state:[1 1 1]\t Goal state:[1 0 1]\n",
      "Success! Initial state:[1 0 1]\t Goal state:[0 0 1]\n",
      "Fail! Initial state:[1 0 1]\t Goal state:[0 0 0]\n",
      "Fail! Initial state:[1 1 0]\t Goal state:[0 0 1]\n",
      "Fail! Initial state:[0 0 0]\t Goal state:[1 0 0]\n",
      "Fail! Initial state:[1 1 1]\t Goal state:[0 0 1]\n",
      "Fail! Initial state:[0 1 0]\t Goal state:[0 1 1]\n",
      "Success! Initial state:[1 1 0]\t Goal state:[0 0 0]\n",
      "Fail! Initial state:[0 1 0]\t Goal state:[0 1 1]\n",
      "Fail! Initial state:[0 0 1]\t Goal state:[1 1 1]\n",
      "Fail! Initial state:[0 0 1]\t Goal state:[1 1 0]\n",
      "Success! Initial state:[0 1 1]\t Goal state:[1 0 1]\n",
      "Success! Initial state:[1 0 0]\t Goal state:[0 0 0]\n",
      "Fail! Initial state:[1 0 1]\t Goal state:[1 1 1]\n",
      "Fail! Initial state:[1 0 1]\t Goal state:[1 1 0]\n",
      "Fail! Initial state:[0 1 1]\t Goal state:[0 0 1]\n",
      "Fail! Initial state:[1 1 1]\t Goal state:[0 0 1]\n",
      "Fail! Initial state:[0 0 1]\t Goal state:[1 1 1]\n",
      "Success! Initial state:[1 1 0]\t Goal state:[1 1 1]\n",
      "Fail! Initial state:[0 1 0]\t Goal state:[1 0 1]\n",
      "Fail! Initial state:[1 1 1]\t Goal state:[1 0 0]\n",
      "Fail! Initial state:[0 1 0]\t Goal state:[0 0 1]\n",
      "Success! Initial state:[1 1 0]\t Goal state:[0 0 0]\n",
      "Success! Initial state:[0 1 0]\t Goal state:[0 0 0]\n",
      "Success! Initial state:[0 1 0]\t Goal state:[1 1 1]\n",
      "Success! Initial state:[0 1 0]\t Goal state:[0 0 0]\n",
      "Success! Initial state:[0 1 1]\t Goal state:[1 0 1]\n",
      "Fail! Initial state:[1 0 1]\t Goal state:[1 1 0]\n",
      "Success! Initial state:[1 1 0]\t Goal state:[0 0 0]\n",
      "Fail! Initial state:[1 0 1]\t Goal state:[1 1 0]\n",
      "Success! Initial state:[1 1 1]\t Goal state:[1 0 1]\n",
      "Fail! Initial state:[1 0 1]\t Goal state:[1 1 0]\n",
      "Fail! Initial state:[0 1 1]\t Goal state:[0 0 1]\n",
      "Fail! Initial state:[0 1 1]\t Goal state:[1 1 1]\n",
      "Success! Initial state:[0 0 1]\t Goal state:[0 0 0]\n",
      "Fail! Initial state:[1 1 1]\t Goal state:[0 0 0]\n",
      "Fail! Initial state:[0 1 0]\t Goal state:[0 1 1]\n",
      "Success! Initial state:[0 0 0]\t Goal state:[0 0 1]\n",
      "Success! Initial state:[1 1 1]\t Goal state:[1 0 1]\n",
      "Fail! Initial state:[1 1 1]\t Goal state:[0 0 0]\n",
      "Success! Initial state:[0 0 1]\t Goal state:[0 1 1]\n",
      "Fail! Initial state:[0 1 0]\t Goal state:[1 0 1]\n",
      "Fail! Initial state:[0 1 1]\t Goal state:[1 0 0]\n",
      "Fail! Initial state:[1 1 0]\t Goal state:[0 0 1]\n",
      "Fail! Initial state:[0 0 1]\t Goal state:[1 1 1]\n",
      "Fail! Initial state:[1 1 0]\t Goal state:[0 0 1]\n",
      "Fail! Initial state:[0 0 1]\t Goal state:[1 1 0]\n",
      "Fail! Initial state:[1 0 1]\t Goal state:[0 0 0]\n",
      "Fail! Initial state:[1 0 0]\t Goal state:[1 1 0]\n",
      "Fail! Initial state:[1 1 0]\t Goal state:[0 1 1]\n",
      "Success! Initial state:[0 1 0]\t Goal state:[1 1 1]\n",
      "Fail! Initial state:[1 1 1]\t Goal state:[0 0 0]\n",
      "Fail! Initial state:[1 1 0]\t Goal state:[1 0 1]\n",
      "Fail! Initial state:[1 1 1]\t Goal state:[1 0 0]\n",
      "Fail! Initial state:[1 1 0]\t Goal state:[1 0 0]\n",
      "Fail! Initial state:[1 0 0]\t Goal state:[1 1 0]\n",
      "Success! Initial state:[1 0 1]\t Goal state:[0 0 1]\n",
      "Fail! Initial state:[0 1 1]\t Goal state:[0 0 0]\n",
      "Success! Initial state:[0 0 1]\t Goal state:[0 1 1]\n",
      "Fail! Initial state:[1 0 1]\t Goal state:[0 0 0]\n",
      "Fail! Initial state:[1 1 0]\t Goal state:[0 1 1]\n",
      "Fail! Initial state:[1 1 0]\t Goal state:[1 0 1]\n",
      "Success! Initial state:[0 0 0]\t Goal state:[0 0 1]\n",
      "Success! Initial state:[1 1 1]\t Goal state:[0 1 0]\n",
      "Success! Initial state:[0 0 0]\t Goal state:[1 1 1]\n",
      "Success! Initial state:[0 0 0]\t Goal state:[1 0 1]\n",
      "Fail! Initial state:[0 1 1]\t Goal state:[1 1 1]\n",
      "Fail! Initial state:[0 0 1]\t Goal state:[1 0 0]\n",
      "Fail! Initial state:[1 1 1]\t Goal state:[0 0 1]\n",
      "Fail! Initial state:[1 1 1]\t Goal state:[1 0 0]\n",
      "Fail! Initial state:[1 1 1]\t Goal state:[1 0 0]\n",
      "Fail! Initial state:[1 1 0]\t Goal state:[0 0 1]\n",
      "Success! Initial state:[1 0 0]\t Goal state:[0 0 1]\n",
      "Fail! Initial state:[1 0 1]\t Goal state:[0 1 0]\n",
      "Fail! Initial state:[0 1 1]\t Goal state:[0 0 1]\n",
      "Success! Initial state:[0 0 1]\t Goal state:[0 1 1]\n",
      "Success! Initial state:[0 1 1]\t Goal state:[1 0 1]\n",
      "Fail! Initial state:[1 1 1]\t Goal state:[0 0 0]\n",
      "Fail! Initial state:[0 0 1]\t Goal state:[1 1 0]\n",
      "Fail! Initial state:[1 0 1]\t Goal state:[0 0 0]\n",
      "Fail! Initial state:[1 0 1]\t Goal state:[1 1 0]\n",
      "Fail! Initial state:[0 1 1]\t Goal state:[1 1 0]\n",
      "Fail! Initial state:[1 0 0]\t Goal state:[1 1 0]\n",
      "Fail! Initial state:[1 0 1]\t Goal state:[0 1 0]\n",
      "Fail! Initial state:[1 0 1]\t Goal state:[1 1 0]\n",
      "Success! Initial state:[1 1 0]\t Goal state:[1 1 1]\n",
      "Fail! Initial state:[1 0 1]\t Goal state:[1 0 0]\n",
      "Success! Initial state:[1 1 1]\t Goal state:[1 0 1]\n",
      "Fail! Initial state:[0 0 0]\t Goal state:[1 0 0]\n",
      "Success! Initial state:[0 0 1]\t Goal state:[0 0 0]\n",
      "Success! Initial state:[0 1 0]\t Goal state:[0 0 0]\n",
      "Fail! Initial state:[0 0 1]\t Goal state:[1 1 1]\n",
      "Success! Initial state:[1 1 0]\t Goal state:[0 0 0]\n",
      "Success! Initial state:[0 0 1]\t Goal state:[0 1 1]\n",
      "Fail! Initial state:[1 0 0]\t Goal state:[1 1 1]\n",
      "Fail! Initial state:[0 0 0]\t Goal state:[0 1 1]\n",
      "Fail! Initial state:[1 1 1]\t Goal state:[0 1 1]\n",
      "Success rate 33%\n"
     ]
    }
   ],
   "source": [
    "with tf.Session() as sess:\n",
    "    saver = tf.train.Saver()\n",
    "    saver.restore(sess, '/tmp/model.ckpt')\n",
    "    \n",
    "    success = 0\n",
    "    for i in range(100):\n",
    "        \n",
    "        s_0 = agent._sample_state()\n",
    "        goal = agent._sample_state()\n",
    "        while np.array_equal(s_0, goal):\n",
    "            goal = agent._sample_state()\n",
    "\n",
    "        env = bf(s_0, goal, n)\n",
    "\n",
    "        for i in range(n):\n",
    "            X = np.concatenate((env.state.reshape((1,-1)),goal.reshape((1,-1))), axis=1)\n",
    "            Q = sess.run(agent.targetModel, feed_dict={x: X})\n",
    "            action = np.argmax(Q)\n",
    "            env.update_state(action)\n",
    "            if (env.reward(env.state)==0):\n",
    "                print('Success! Initial state:{0}\\t Goal state:{1}'.format(s_0, goal))\n",
    "                success += 1\n",
    "                break\n",
    "            elif (i==n-1):\n",
    "                print('Fail! Initial state:{0}\\t Goal state:{1}'.format(s_0, goal))\n",
    "                \n",
    "    print('Success rate {}%'.format(success))"
   ]
  },
  {
   "cell_type": "code",
   "execution_count": 7,
   "metadata": {},
   "outputs": [],
   "source": [
    "a=np.array([[1,2,3,2,1,3]])"
   ]
  },
  {
   "cell_type": "code",
   "execution_count": 8,
   "metadata": {},
   "outputs": [
    {
     "data": {
      "text/plain": [
       "(1, 6)"
      ]
     },
     "execution_count": 8,
     "metadata": {},
     "output_type": "execute_result"
    }
   ],
   "source": [
    "a.shape"
   ]
  },
  {
   "cell_type": "code",
   "execution_count": 9,
   "metadata": {},
   "outputs": [],
   "source": [
    "s=np.argmax(a)"
   ]
  },
  {
   "cell_type": "code",
   "execution_count": 10,
   "metadata": {},
   "outputs": [
    {
     "data": {
      "text/plain": [
       "2"
      ]
     },
     "execution_count": 10,
     "metadata": {},
     "output_type": "execute_result"
    }
   ],
   "source": [
    "s"
   ]
  },
  {
   "cell_type": "code",
   "execution_count": null,
   "metadata": {},
   "outputs": [],
   "source": []
  }
 ],
 "metadata": {
  "kernelspec": {
   "display_name": "Python 3",
   "language": "python",
   "name": "python3"
  },
  "language_info": {
   "codemirror_mode": {
    "name": "ipython",
    "version": 3
   },
   "file_extension": ".py",
   "mimetype": "text/x-python",
   "name": "python",
   "nbconvert_exporter": "python",
   "pygments_lexer": "ipython3",
   "version": "3.6.5"
  }
 },
 "nbformat": 4,
 "nbformat_minor": 2
}
